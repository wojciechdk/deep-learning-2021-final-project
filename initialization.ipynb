{
 "cells": [
  {
   "cell_type": "markdown",
   "metadata": {
    "deletable": false,
    "editable": false,
    "hide_input": true,
    "run_control": {
     "frozen": true
    }
   },
   "source": [
    "<span style=\"font-family:Lucida Bright;\">\n",
    "<p style=\"margin-bottom:0.5cm\"></p>\n",
    "<center>\n",
    "<font size=\"8\"><b>Deep Learning, Fall 2021</b></font>\n",
    "<p style=\"margin-bottom:0.2cm\"></p>\n",
    "<font size=\"3\"><b>Final Project:</b></font>\n",
    "<p style=\"margin-bottom:0.1cm\"></p>\n",
    "<font size=\"5\"><b>Enhancing Voices for Better Speech Intelligibility</b></font>\n",
    "<p style=\"margin-bottom:2cm\"></p>\n",
    "<font size=\"6\"><b>Title</b></font>\n",
    "</center>\n",
    "<p style=\"margin-bottom:2cm\"></p>"
   ]
  },
  {
   "cell_type": "markdown",
   "metadata": {},
   "source": [
    "# Imports"
   ]
  },
  {
   "cell_type": "code",
   "execution_count": 31,
   "metadata": {
    "ExecuteTime": {
     "end_time": "2021-11-08T17:36:40.729410Z",
     "start_time": "2021-11-08T17:36:38.547297Z"
    }
   },
   "outputs": [],
   "source": [
    "import datetime\n",
    "import json\n",
    "import matplotlib.pyplot as plt\n",
    "import numpy as np\n",
    "import pandas as pd\n",
    "import requests\n",
    "import warnings\n",
    "\n",
    "from IPython.core.interactiveshell import InteractiveShell\n",
    "from IPython.display import display\n",
    "from IPython.display import HTML\n",
    "from IPython.display import IFrame\n",
    "from IPython.display import Markdown\n",
    "from IPython.display import YouTubeVideo\n",
    "\n",
    "from operator import itemgetter\n",
    "\n",
    "from pathlib import Path\n",
    "\n",
    "from tqdm import tqdm"
   ]
  },
  {
   "cell_type": "markdown",
   "metadata": {},
   "source": [
    "#  Configuration\n",
    "\n"
   ]
  },
  {
   "cell_type": "markdown",
   "metadata": {},
   "source": [
    "## Notebook options\n"
   ]
  },
  {
   "cell_type": "code",
   "execution_count": 32,
   "metadata": {
    "ExecuteTime": {
     "end_time": "2021-11-08T17:36:40.736297Z",
     "start_time": "2021-11-08T17:36:40.732297Z"
    },
    "pycharm": {
     "name": "#%%\n"
    }
   },
   "outputs": [],
   "source": [
    "# Decide which output is shown below the cells.\n",
    "InteractiveShell.ast_node_interactivity = \"none\""
   ]
  },
  {
   "cell_type": "markdown",
   "metadata": {},
   "source": [
    "## Matplotlib options\n"
   ]
  },
  {
   "cell_type": "code",
   "execution_count": 33,
   "metadata": {
    "ExecuteTime": {
     "end_time": "2021-11-08T17:36:40.808297Z",
     "start_time": "2021-11-08T17:36:40.797300Z"
    },
    "pycharm": {
     "name": "#%%\n"
    }
   },
   "outputs": [],
   "source": [
    "# Show matplotlib plots inline.\n",
    "%matplotlib inline"
   ]
  },
  {
   "cell_type": "markdown",
   "metadata": {},
   "source": [
    "## Pandas options\n"
   ]
  },
  {
   "cell_type": "code",
   "execution_count": 34,
   "metadata": {
    "ExecuteTime": {
     "end_time": "2021-11-08T17:36:40.819295Z",
     "start_time": "2021-11-08T17:36:40.812296Z"
    },
    "pycharm": {
     "name": "#%%\n"
    }
   },
   "outputs": [],
   "source": [
    "# Define the format in which the numbers will be shown in\n",
    "# the pandas dataframes.\n",
    "pd.options.display.float_format = '{:,.2f}'.format\n",
    "\n",
    "# Decide how to handle the \"SettingWithCopyWarning\" warning\n",
    "pd.options.mode.chained_assignment = None  # default='warn'\n",
    "\n",
    "# At multirow, top-align (False) or center-align (True)\n",
    "pd.options.display.latex.multirow = False\n",
    "\n",
    "# Set the maximum number of rows and columns to show when\n",
    "# displaying a Pandas dataframe.\n",
    "pd.options.display.max_rows = 150\n",
    "pd.options.display.max_columns = 200"
   ]
  },
  {
   "cell_type": "markdown",
   "metadata": {},
   "source": [
    "## Warnings\n"
   ]
  },
  {
   "cell_type": "code",
   "execution_count": 35,
   "metadata": {
    "ExecuteTime": {
     "end_time": "2021-11-08T17:36:40.831300Z",
     "start_time": "2021-11-08T17:36:40.826296Z"
    },
    "pycharm": {
     "name": "#%%\n"
    }
   },
   "outputs": [],
   "source": [
    "# Decide how to handle warnings.\n",
    "warnings.filterwarnings(action='ignore', category=UserWarning)\n",
    "warnings.filterwarnings(action='ignore', category=pd.errors.PerformanceWarning)"
   ]
  },
  {
   "cell_type": "markdown",
   "metadata": {},
   "source": [
    "# Paths\n",
    "\n"
   ]
  },
  {
   "cell_type": "code",
   "execution_count": 36,
   "metadata": {
    "ExecuteTime": {
     "end_time": "2021-11-08T17:36:40.842297Z",
     "start_time": "2021-11-08T17:36:40.834295Z"
    },
    "pycharm": {
     "name": "#%%\n"
    }
   },
   "outputs": [],
   "source": [
    "# Define all the project paths\n",
    "class Paths:\n",
    "\n",
    "    # Project root.\n",
    "    root = Path(\n",
    "        r'G:\\My Drive\\DTU\\Kurser\\Deep_Learning_02456\\final_project')\n",
    "\n",
    "    # Resources folder.\n",
    "    resources = root / 'resources'\n",
    "\n",
    "class Data:\n",
    "    # Root folder for the data.\n",
    "    root = Paths.resources / 'data'\n",
    "\n",
    "    # Folder for the train data.\n",
    "    train = root / 'train'\n",
    "\n",
    "    # Folder for the test data.\n",
    "    test = root / 'test'\n",
    "\n",
    "# Gather all in one class.\n",
    "Paths.Data = Data\n",
    "\n",
    "# Delete superficial variables\n",
    "del Data"
   ]
  },
  {
   "cell_type": "markdown",
   "metadata": {},
   "source": [
    "# Function definitions\n",
    "\n"
   ]
  },
  {
   "cell_type": "markdown",
   "metadata": {},
   "source": [
    "## General functions\n"
   ]
  },
  {
   "cell_type": "code",
   "execution_count": 37,
   "metadata": {
    "ExecuteTime": {
     "end_time": "2021-11-08T17:36:40.854296Z",
     "start_time": "2021-11-08T17:36:40.846300Z"
    },
    "code_folding": [
     1,
     9
    ],
    "pycharm": {
     "name": "#%%\n"
    }
   },
   "outputs": [],
   "source": [
    "# A function that returns a dict of object attributes.\n",
    "def get_obj_attributes(obj):\n",
    "    return {attribute_name: getattr(obj, attribute_name)\n",
    "            for attribute_name in dir(obj)\n",
    "            if (not attribute_name.startswith('__')\n",
    "                and not callable(getattr(obj, attribute_name)))}\n",
    "\n",
    "\n",
    "# A function that returns a dict of object methods.\n",
    "def get_obj_methods(obj):\n",
    "    return {method_name: getattr(obj, method_name)\n",
    "            for method_name in dir(obj)\n",
    "            if (not method_name.startswith('__')\n",
    "            and callable(getattr(obj, method_name)))}\n",
    "\n",
    "\n",
    "# A function that prints a string in markdown format.\n",
    "def printmd(string):\n",
    "    display(Markdown(string))\n",
    "\n",
    "\n",
    "# A function that returns unique values from a text.\n",
    "def unique(list_):\n",
    "    return list(set(list_))"
   ]
  },
  {
   "cell_type": "markdown",
   "metadata": {},
   "source": [
    "## Plotting functions\n"
   ]
  },
  {
   "cell_type": "code",
   "execution_count": 38,
   "metadata": {
    "ExecuteTime": {
     "end_time": "2021-11-08T17:36:40.872294Z",
     "start_time": "2021-11-08T17:36:40.857294Z"
    },
    "code_folding": [
     1,
     12,
     19,
     29,
     40
    ],
    "pycharm": {
     "name": "#%%\n"
    }
   },
   "outputs": [],
   "source": [
    "# A function that applies default formatting to an axes.\n",
    "def format_axes(axes: plt.Axes,\n",
    "                keep_box=False):\n",
    "    if not keep_box:\n",
    "        axes.spines['top'].set_color('white')\n",
    "        axes.spines['right'].set_color('white')\n",
    "\n",
    "    axes.set_facecolor(\"white\")\n",
    "\n",
    "\n",
    "# A function that applies default formatting to annotation\n",
    "# of an axes.\n",
    "def format_axes_annotation(axes: plt.Axes):\n",
    "    axes.xaxis.label.set_fontsize(14)\n",
    "    axes.yaxis.label.set_fontsize(14)\n",
    "    axes.title.set_fontsize(16)\n",
    "\n",
    "\n",
    "# A function for creating common x-label for the figure.\n",
    "def figure_x_label(figure: plt.Figure,\n",
    "                   label: str,\n",
    "                   y_position=0.04,\n",
    "                   font_size=16):\n",
    "    figure.text(0.5, y_position, label,\n",
    "                ha='center',\n",
    "                fontdict={'size': font_size})\n",
    "\n",
    "\n",
    "# A function for creating common y-label for the figure.\n",
    "def figure_y_label(figure: plt.Figure,\n",
    "                   label: str,\n",
    "                   x_position=0.04,\n",
    "                   font_size=16):\n",
    "    figure.text(x_position, 0.5, label,\n",
    "                va='center',\n",
    "                rotation='vertical',\n",
    "                fontdict={'size': font_size})\n",
    "\n",
    "\n",
    "# A function that draws a horizontal line across the entire axes.\n",
    "def draw_threshold(value: float,\n",
    "                   axes: plt.Axes,\n",
    "                   linewidth=1,\n",
    "                   linestyle='-',\n",
    "                   color=None,\n",
    "                   title=None):\n",
    "\n",
    "    # Get axes limits and ranges.\n",
    "    x_min, x_max = axes.get_xlim()\n",
    "    x_range = x_max - x_min\n",
    "    y_min, y_max = axes.get_ylim()\n",
    "    y_range = y_max - y_min\n",
    "\n",
    "    # Plot the threshold line.\n",
    "    axes.plot([x_min, x_max], [value, value],\n",
    "              linewidth=1,\n",
    "              linestyle='-',\n",
    "              color=color)\n",
    "\n",
    "    # Write a title above the threshold line\n",
    "    if title is not None:\n",
    "        axes.text(x_min + 0.01 * x_range,\n",
    "                  value + 0.02 * y_range,\n",
    "                  title)\n",
    "\n",
    "\n"
   ]
  },
  {
   "cell_type": "markdown",
   "metadata": {},
   "source": [
    "##  Dataframe functions\n"
   ]
  },
  {
   "cell_type": "code",
   "execution_count": 39,
   "metadata": {
    "ExecuteTime": {
     "end_time": "2021-11-08T17:36:40.902295Z",
     "start_time": "2021-11-08T17:36:40.875295Z"
    },
    "code_folding": [
     1,
     18,
     35,
     47,
     77,
     127,
     163
    ],
    "pycharm": {
     "name": "#%%\n"
    }
   },
   "outputs": [],
   "source": [
    "# A function that gets column names of a dataframe.\n",
    "def get_df_columns(df, exclude=None):\n",
    "    # If columns to be excluded have not been defined,\n",
    "    # represent it as an empty list.\n",
    "    if exclude is None:\n",
    "        exclude = list()\n",
    "\n",
    "    # If the columns to be excluded are not specified using a list\n",
    "    # or a tuple, represent them as a list.\n",
    "    elif not isinstance(exclude, (list, tuple)):\n",
    "        exclude = [exclude]\n",
    "\n",
    "    # Return all column names except the ones to exclude.\n",
    "    return [column for column in df.columns.to_list()\n",
    "            if column not in exclude]\n",
    "\n",
    "\n",
    "# A function that gets rows names of a dataframe.\n",
    "def get_df_rows(df, exclude=None):\n",
    "    # If columns to be excluded have not been defined,\n",
    "    # represent it as an empty list.\n",
    "    if exclude is None:\n",
    "        exclude = list()\n",
    "\n",
    "    # If the columns to be excluded are not specified using a list\n",
    "    # or a tuple, represent them as a list.\n",
    "    elif not isinstance(exclude, (list, tuple)):\n",
    "        exclude = [exclude]\n",
    "\n",
    "    # Return all column names except the ones to exclude.\n",
    "    return [row for row in df.index.to_list()\n",
    "            if row not in exclude]\n",
    "\n",
    "\n",
    "# A function that resets the names of indices\n",
    "def reset_df_index_names(df):\n",
    "    return (\n",
    "        df\n",
    "        .rename_axis(['' for level in range(df.columns.nlevels)],\n",
    "                     axis=\"columns\")\n",
    "        .rename_axis(['' for level in range(df.index.nlevels)],\n",
    "                     axis=\"rows\")\n",
    "    )\n",
    "\n",
    "\n",
    "# A function that sorts the columns in alphabethical order\n",
    "# and puts the user-chosen columns first\n",
    "def df_sort_columns(df: pd.DataFrame,\n",
    "                    first_columns=None):\n",
    "\n",
    "    # Define a function that moves the chosen element to the\n",
    "    # front of the list.\n",
    "    def move_to_front(element, list_):\n",
    "        if element in list_:\n",
    "            list_.insert(0, list_.pop(list_.index(element)))\n",
    "\n",
    "    # Make sure that the columns that are to be put in front\n",
    "    # are represented as a list.\n",
    "    if first_columns is None:\n",
    "        first_columns = list()\n",
    "\n",
    "    # Sort the columns in alphabetical order.\n",
    "    sorted_columns = list(df.columns)\n",
    "    sorted_columns.sort()\n",
    "\n",
    "    # Move the user-chosen columns to the front.\n",
    "    for column in first_columns[::-1]:\n",
    "        move_to_front(column, sorted_columns)\n",
    "\n",
    "    # Assign the ordered columns to the dataframe.\n",
    "    df = df[sorted_columns]\n",
    "\n",
    "    return df\n",
    "\n",
    "\n",
    "# A function that creates a new column representing data in 'value_columns'\n",
    "# for every unique value in 'category_columns'.\n",
    "def df_create_column_for_each_unique_value(df,\n",
    "                                           category_columns,\n",
    "                                           value_columns,\n",
    "                                           aggfunc='first'):\n",
    "\n",
    "    # Always represent category and value columns as a list or tuple.\n",
    "    if not isinstance(category_columns, (list, tuple)):\n",
    "        category_columns = [category_columns]\n",
    "\n",
    "    if not isinstance(value_columns, (list, tuple)):\n",
    "        value_columns = [value_columns]\n",
    "\n",
    "    # Create a colum order for grouping so that all the value columns\n",
    "    # come last and category columns second last. We leave out 1\n",
    "    # value column for the result\n",
    "    cat_and_value_columns = category_columns + value_columns\n",
    "    column_order = (\n",
    "        get_df_columns(df, exclude=cat_and_value_columns)\n",
    "        + cat_and_value_columns[:-1]\n",
    "    )\n",
    "\n",
    "    # Create columns from unique values by grouping and unstacking.\n",
    "    df = (\n",
    "        df\n",
    "        .groupby(column_order)\n",
    "        .first()\n",
    "        .unstack(list(np.arange(-len(cat_and_value_columns) + 1,\n",
    "                                0)))\n",
    "        .reset_index()\n",
    "    )\n",
    "\n",
    "    # Delete the names of the index levels\n",
    "    df = df.rename_axis(['' for level in range(df.columns.nlevels)],\n",
    "                        axis=\"columns\")\n",
    "    return df\n",
    "\n",
    "    # OLD IMPLEMENTATION\n",
    "    #     return (\n",
    "    #         df\n",
    "    #         .pivot_table(values=value_columns,\n",
    "    #                      index=get_df_columns(df,\n",
    "    #                                           exclude=category_columns + value_columns),\n",
    "    #                      columns=category_columns,\n",
    "    #                      aggfunc='first')\n",
    "    #         .reset_index()\n",
    "    #         .rename_axis(('', ''), axis=\"columns\")\n",
    "    #     )\n",
    "\n",
    "\n",
    "# A function that flaattens the multiindex of a dataframe.\n",
    "def flatten_multiindex(df, axis='columns'):\n",
    "\n",
    "    # Get the desired index\n",
    "    if axis in [1, 'columns']:\n",
    "        index = df.columns\n",
    "    elif axis in [0, 'rows']:\n",
    "        index = df.index\n",
    "    else:\n",
    "        raise ValueError(f'Invalid axis: \"{axis}\".')\n",
    "\n",
    "    # Join all the levels except the empty ones with a ', '\n",
    "    flat_index = list()\n",
    "    for element in index.values:\n",
    "        if not isinstance(element, (tuple, list)):\n",
    "            flat_index.append(element)\n",
    "        else:\n",
    "            flat_element = ''\n",
    "            for idx, subelement in enumerate(element):\n",
    "                if subelement:\n",
    "                    if idx == 0:\n",
    "                        flat_element += subelement\n",
    "                    else:\n",
    "                        flat_element += ', ' + subelement\n",
    "\n",
    "            flat_index.append(flat_element)\n",
    "\n",
    "    # Assign the index to the dataframe\n",
    "    if axis in [1, 'columns']:\n",
    "        df.columns = flat_index\n",
    "    elif axis in [0, 'rows']:\n",
    "        df.index = flat_index\n",
    "\n",
    "    return df\n",
    "\n",
    "\n",
    "# A function that creates an empty multiindex of a given depth\n",
    "def create_empty_multiindex(n_levels, names=None):\n",
    "    return pd.MultiIndex.from_arrays(\n",
    "        arrays=[list() for _ in range(n_levels)],\n",
    "        names=names\n",
    "    )"
   ]
  },
  {
   "cell_type": "markdown",
   "source": [
    "## Data science functions"
   ],
   "metadata": {
    "collapsed": false
   }
  },
  {
   "cell_type": "code",
   "execution_count": 40,
   "metadata": {
    "ExecuteTime": {
     "end_time": "2021-11-08T17:36:40.969295Z",
     "start_time": "2021-11-08T17:36:40.957294Z"
    },
    "code_folding": [
     2,
     23
    ],
    "pycharm": {
     "name": "#%%\n"
    }
   },
   "outputs": [],
   "source": [
    "# A function for balancing a dataframe so that the number of rows\n",
    "# containing each value present in the designated column will be the same.\n",
    "def balance_dataframe(df: pd.DataFrame, column_name):\n",
    "    # Get the count of the least frequent ocurrence in column.\n",
    "    lowest_frequency = df[column_name].value_counts().min()\n",
    "\n",
    "    # Create an empty dataframe for storing the balanced data\n",
    "    df_balanced = pd.DataFrame()\n",
    "\n",
    "    # For each value in column, randomly choose the number of samples\n",
    "    # that corresponds to the least frequent value in the column.\n",
    "    for value in df[column_name].unique():\n",
    "        df_balanced = df_balanced.append(\n",
    "            df\n",
    "            .loc[df[column_name] == value]\n",
    "            .sample(lowest_frequency)\n",
    "        )\n",
    "\n",
    "    return df_balanced\n",
    "\n",
    "\n",
    "# A function that evaluates a dictionary of models on data from\n",
    "# a pandas dataframe.\n",
    "def evaluate_models(models: dict,\n",
    "                    df: pd.DataFrame,\n",
    "                    predictor_labels: list,\n",
    "                    target_label: str,\n",
    "                    test_size=0.33):\n",
    "\n",
    "    # Get the dataset.\n",
    "    X = df.loc[:, predictor_labels].values\n",
    "    y = df.loc[:, target_label].values\n",
    "\n",
    "    # Split the dataset into a test and training set.\n",
    "    X_train, X_test, y_train, y_test = train_test_split(\n",
    "        X, y, test_size=test_size, random_state=32)\n",
    "\n",
    "    # Fit the models to the data.\n",
    "    for model_name, model in models.items():\n",
    "\n",
    "        # Print the name of the model.\n",
    "        printmd(f'*__{model_name}:__*')\n",
    "\n",
    "        # Train the model on the training set.\n",
    "        model.fit(X_train, y_train)\n",
    "\n",
    "        # Get the predictions on the test set.\n",
    "        predictions = model.predict(X_test)\n",
    "\n",
    "        # Print the classification report.\n",
    "        print(classification_report(y_test, predictions,\n",
    "                                    zero_division=0,\n",
    "                                    digits=4))"
   ]
  }
 ],
 "metadata": {
  "hide_input": false,
  "kernelspec": {
   "display_name": "PyCharm (Exercises)",
   "language": "python",
   "name": "pycharm-f0629d26"
  },
  "language_info": {
   "codemirror_mode": {
    "name": "ipython",
    "version": 3
   },
   "file_extension": ".py",
   "mimetype": "text/x-python",
   "name": "python",
   "nbconvert_exporter": "python",
   "pygments_lexer": "ipython3",
   "version": "3.8.11"
  },
  "toc": {
   "base_numbering": 1,
   "nav_menu": {},
   "number_sections": true,
   "sideBar": true,
   "skip_h1_title": false,
   "title_cell": "Table of Contents",
   "title_sidebar": "Contents",
   "toc_cell": false,
   "toc_position": {
    "height": "calc(100% - 180px)",
    "left": "10px",
    "top": "150px",
    "width": "268.993px"
   },
   "toc_section_display": true,
   "toc_window_display": true
  },
  "widgets": {
   "application/vnd.jupyter.widget-state+json": {
    "state": {
     "093e89bffde74c5a8863a1d8ffe0bb66": {
      "model_module": "@jupyter-widgets/controls",
      "model_module_version": "1.5.0",
      "model_name": "DescriptionStyleModel",
      "state": {
       "description_width": ""
      }
     },
     "1a5365fd770e464891fe02b94cb34b95": {
      "model_module": "@jupyter-widgets/base",
      "model_module_version": "1.2.0",
      "model_name": "LayoutModel",
      "state": {}
     },
     "1c7a498865af41a1bd4af63eca07bd28": {
      "model_module": "@jupyter-widgets/controls",
      "model_module_version": "1.5.0",
      "model_name": "FloatTextModel",
      "state": {
       "layout": "IPY_MODEL_68759d18977d4757ba3eb3cf81aa1129",
       "step": null,
       "style": "IPY_MODEL_feea9000784940f3b601fd1ba613dd31"
      }
     },
     "1ee2806f2e314951b8b42666540f6aee": {
      "model_module": "@jupyter-widgets/base",
      "model_module_version": "1.2.0",
      "model_name": "LayoutModel",
      "state": {}
     },
     "371339a327cc48d8a56358f512674975": {
      "model_module": "@jupyter-widgets/base",
      "model_module_version": "1.2.0",
      "model_name": "LayoutModel",
      "state": {}
     },
     "65604f719f9e41f3b6d495d3aa907529": {
      "model_module": "@jupyter-widgets/controls",
      "model_module_version": "1.5.0",
      "model_name": "SliderStyleModel",
      "state": {
       "description_width": ""
      }
     },
     "68759d18977d4757ba3eb3cf81aa1129": {
      "model_module": "@jupyter-widgets/base",
      "model_module_version": "1.2.0",
      "model_name": "LayoutModel",
      "state": {}
     },
     "68dd48c190fe4b8c92790dc65803d785": {
      "model_module": "@jupyter-widgets/controls",
      "model_module_version": "1.5.0",
      "model_name": "DropdownModel",
      "state": {
       "_options_labels": [
        "One",
        "Two",
        "Three"
       ],
       "description": "Number:",
       "index": 1,
       "layout": "IPY_MODEL_371339a327cc48d8a56358f512674975",
       "style": "IPY_MODEL_89e645fe88da40b2890bc1c08b50be78"
      }
     },
     "839595af423541ef946ce08e437e5b7e": {
      "model_module": "@jupyter-widgets/controls",
      "model_module_version": "1.5.0",
      "model_name": "DescriptionStyleModel",
      "state": {
       "description_width": ""
      }
     },
     "89e645fe88da40b2890bc1c08b50be78": {
      "model_module": "@jupyter-widgets/controls",
      "model_module_version": "1.5.0",
      "model_name": "DescriptionStyleModel",
      "state": {
       "description_width": ""
      }
     },
     "9091258d01434bf8ac0f41c12363e6a8": {
      "model_module": "@jupyter-widgets/controls",
      "model_module_version": "1.5.0",
      "model_name": "FloatTextModel",
      "state": {
       "layout": "IPY_MODEL_c22c18c67fe24f06ada7d28e3cb6ff90",
       "step": null,
       "style": "IPY_MODEL_839595af423541ef946ce08e437e5b7e"
      }
     },
     "afadc0b9a4f3458685319c1818955895": {
      "model_module": "@jupyter-widgets/controls",
      "model_module_version": "1.5.0",
      "model_name": "DropdownModel",
      "state": {
       "_options_labels": [
        "One",
        "Two",
        "Three"
       ],
       "description": "Number:",
       "index": 1,
       "layout": "IPY_MODEL_1ee2806f2e314951b8b42666540f6aee",
       "style": "IPY_MODEL_093e89bffde74c5a8863a1d8ffe0bb66"
      }
     },
     "c22c18c67fe24f06ada7d28e3cb6ff90": {
      "model_module": "@jupyter-widgets/base",
      "model_module_version": "1.2.0",
      "model_name": "LayoutModel",
      "state": {}
     },
     "c64dd728486c4d4396b6b2b4a02ca054": {
      "model_module": "@jupyter-widgets/controls",
      "model_module_version": "1.5.0",
      "model_name": "FloatSliderModel",
      "state": {
       "layout": "IPY_MODEL_1a5365fd770e464891fe02b94cb34b95",
       "step": 0.1,
       "style": "IPY_MODEL_ff2f617f26294276834c51733d0f253c"
      }
     },
     "d7c60be1aeb643fe9d80a622e61b4cc2": {
      "model_module": "@jupyter-widgets/base",
      "model_module_version": "1.2.0",
      "model_name": "LayoutModel",
      "state": {}
     },
     "fe21ecb1be5e431c9745cf04421dc9a0": {
      "model_module": "@jupyter-widgets/controls",
      "model_module_version": "1.5.0",
      "model_name": "FloatSliderModel",
      "state": {
       "layout": "IPY_MODEL_d7c60be1aeb643fe9d80a622e61b4cc2",
       "step": 0.1,
       "style": "IPY_MODEL_65604f719f9e41f3b6d495d3aa907529",
       "value": 55.4
      }
     },
     "feea9000784940f3b601fd1ba613dd31": {
      "model_module": "@jupyter-widgets/controls",
      "model_module_version": "1.5.0",
      "model_name": "DescriptionStyleModel",
      "state": {
       "description_width": ""
      }
     },
     "ff2f617f26294276834c51733d0f253c": {
      "model_module": "@jupyter-widgets/controls",
      "model_module_version": "1.5.0",
      "model_name": "SliderStyleModel",
      "state": {
       "description_width": ""
      }
     }
    },
    "version_major": 2,
    "version_minor": 0
   }
  }
 },
 "nbformat": 4,
 "nbformat_minor": 1
}