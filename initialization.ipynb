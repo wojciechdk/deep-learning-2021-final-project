{
 "cells": [
  {
   "cell_type": "markdown",
   "metadata": {
    "deletable": false,
    "editable": false,
    "hide_input": true,
    "run_control": {
     "frozen": true
    }
   },
   "source": [
    "<span style=\"font-family:Lucida Bright;\">\n",
    "<p style=\"margin-bottom:0.5cm\"></p>\n",
    "<center>\n",
    "<font size=\"8\"><b>La Vecchia Panderia</b></font>\n",
    "<p style=\"margin-bottom:0.2cm\"></p>\n",
    "<font size=\"3\"><b>il progetto della</b></font>\n",
    "<p style=\"margin-bottom:0.1cm\"></p>\n",
    "<font size=\"5\"><b>Famiglia Rubino</b></font>\n",
    "<p style=\"margin-bottom:2cm\"></p>\n",
    "<font size=\"6\"><b>Inizializzazione</b></font>\n",
    "</center>\n",
    "<p style=\"margin-bottom:2cm\"></p>"
   ]
  },
  {
   "cell_type": "markdown",
   "metadata": {},
   "source": [
    "# Imports"
   ]
  },
  {
   "cell_type": "code",
   "execution_count": 1,
   "metadata": {
    "ExecuteTime": {
     "end_time": "2021-11-08T17:36:40.729410Z",
     "start_time": "2021-11-08T17:36:38.547297Z"
    }
   },
   "outputs": [],
   "source": [
    "import cryptocompare\n",
    "import datetime\n",
    "import json\n",
    "import matplotlib.pyplot as plt\n",
    "import numpy as np\n",
    "import pandas as pd\n",
    "import requests\n",
    "import warnings\n",
    "\n",
    "from alpha_vantage.timeseries import TimeSeries\n",
    "from currency_converter import CurrencyConverter\n",
    "\n",
    "from IPython.core.interactiveshell import InteractiveShell\n",
    "from IPython.display import display\n",
    "from IPython.display import HTML\n",
    "from IPython.display import IFrame\n",
    "from IPython.display import Markdown\n",
    "from IPython.display import YouTubeVideo\n",
    "\n",
    "from operator import itemgetter\n",
    "\n",
    "from pathlib import Path\n",
    "\n",
    "from tqdm import tqdm"
   ]
  },
  {
   "cell_type": "markdown",
   "metadata": {},
   "source": [
    "#  Configuration\n",
    "\n"
   ]
  },
  {
   "cell_type": "markdown",
   "metadata": {},
   "source": [
    "## Notebook options\n"
   ]
  },
  {
   "cell_type": "code",
   "execution_count": 2,
   "metadata": {
    "ExecuteTime": {
     "end_time": "2021-11-08T17:36:40.736297Z",
     "start_time": "2021-11-08T17:36:40.732297Z"
    },
    "pycharm": {
     "name": "#%%\n"
    }
   },
   "outputs": [],
   "source": [
    "# Decide which output is shown below the cells.\n",
    "InteractiveShell.ast_node_interactivity = \"none\""
   ]
  },
  {
   "cell_type": "markdown",
   "metadata": {},
   "source": [
    "## AlphaVantage options"
   ]
  },
  {
   "cell_type": "code",
   "execution_count": 3,
   "metadata": {
    "ExecuteTime": {
     "end_time": "2021-11-08T17:36:40.784300Z",
     "start_time": "2021-11-08T17:36:40.739299Z"
    }
   },
   "outputs": [],
   "source": [
    "ts  = TimeSeries(key='99d11ce995msh2a48aa267bd6bdap1e3b44jsn6f82f2bcc5ad', rapidapi=True)"
   ]
  },
  {
   "cell_type": "markdown",
   "metadata": {},
   "source": [
    "## Cryptocompare options\n"
   ]
  },
  {
   "cell_type": "code",
   "execution_count": 4,
   "metadata": {
    "ExecuteTime": {
     "end_time": "2021-11-08T17:36:40.793295Z",
     "start_time": "2021-11-08T17:36:40.786293Z"
    }
   },
   "outputs": [],
   "source": [
    "cryptocompare.cryptocompare._set_api_key_parameter(\n",
    "    'fc50c20e70e75349746ad70c7d30162dee90a73fc340c329aa205894defe7ae4')"
   ]
  },
  {
   "cell_type": "markdown",
   "metadata": {},
   "source": [
    "## Matplotlib options\n"
   ]
  },
  {
   "cell_type": "code",
   "execution_count": 5,
   "metadata": {
    "ExecuteTime": {
     "end_time": "2021-11-08T17:36:40.808297Z",
     "start_time": "2021-11-08T17:36:40.797300Z"
    },
    "pycharm": {
     "is_executing": true,
     "name": "#%%\n"
    }
   },
   "outputs": [],
   "source": [
    "# Show matplotlib plots inline.\n",
    "%matplotlib inline"
   ]
  },
  {
   "cell_type": "markdown",
   "metadata": {},
   "source": [
    "## Pandas options\n"
   ]
  },
  {
   "cell_type": "code",
   "execution_count": 6,
   "metadata": {
    "ExecuteTime": {
     "end_time": "2021-11-08T17:36:40.819295Z",
     "start_time": "2021-11-08T17:36:40.812296Z"
    },
    "pycharm": {
     "is_executing": true,
     "name": "#%%\n"
    }
   },
   "outputs": [],
   "source": [
    "# Define the format in which the numbers will be shown in\n",
    "# the pandas dataframes.\n",
    "pd.options.display.float_format = '{:,.2f}'.format\n",
    "\n",
    "# Decide how to handle the \"SettingWithCopyWarning\" warning\n",
    "pd.options.mode.chained_assignment = None  # default='warn'\n",
    "\n",
    "# At multirow, top-align (False) or center-align (True)\n",
    "pd.options.display.latex.multirow = False\n",
    "\n",
    "# Set the maximum number of rows and columns to show when\n",
    "# displaying a Pandas dataframe.\n",
    "pd.options.display.max_rows = 150\n",
    "pd.options.display.max_columns = 200"
   ]
  },
  {
   "cell_type": "markdown",
   "metadata": {},
   "source": [
    "## Warnings\n"
   ]
  },
  {
   "cell_type": "code",
   "execution_count": 7,
   "metadata": {
    "ExecuteTime": {
     "end_time": "2021-11-08T17:36:40.831300Z",
     "start_time": "2021-11-08T17:36:40.826296Z"
    },
    "pycharm": {
     "is_executing": true,
     "name": "#%%\n"
    }
   },
   "outputs": [],
   "source": [
    "# Decide how to handle warnings.\n",
    "warnings.filterwarnings(action='ignore', category=UserWarning)\n",
    "warnings.filterwarnings(action='ignore', category=pd.errors.PerformanceWarning)"
   ]
  },
  {
   "cell_type": "markdown",
   "metadata": {},
   "source": [
    "# Paths\n",
    "\n"
   ]
  },
  {
   "cell_type": "code",
   "execution_count": 8,
   "metadata": {
    "ExecuteTime": {
     "end_time": "2021-11-08T17:36:40.842297Z",
     "start_time": "2021-11-08T17:36:40.834295Z"
    },
    "pycharm": {
     "is_executing": true,
     "name": "#%%\n"
    }
   },
   "outputs": [],
   "source": [
    "# Project root.\n",
    "path_root = Path(\n",
    "    r'C:\\GDrive\\DTU\\Kurser\\Social_Data_Analysis_and_Visualization_02806\\final_project')\n",
    "\n",
    "# Resources root.\n",
    "path_resources = path_root / 'resources'"
   ]
  },
  {
   "cell_type": "markdown",
   "metadata": {},
   "source": [
    "# Function definitions\n",
    "\n"
   ]
  },
  {
   "cell_type": "markdown",
   "metadata": {},
   "source": [
    "## General functions\n"
   ]
  },
  {
   "cell_type": "code",
   "execution_count": 9,
   "metadata": {
    "ExecuteTime": {
     "end_time": "2021-11-08T17:36:40.854296Z",
     "start_time": "2021-11-08T17:36:40.846300Z"
    },
    "code_folding": [
     1,
     9
    ],
    "pycharm": {
     "is_executing": true,
     "name": "#%%\n"
    }
   },
   "outputs": [],
   "source": [
    "# A function that returns a dict of object attributes.\n",
    "def get_obj_attributes(obj):\n",
    "    return {attribute_name: getattr(obj, attribute_name)\n",
    "            for attribute_name in dir(obj)\n",
    "            if (not attribute_name.startswith('__')\n",
    "                and not callable(getattr(obj, attribute_name)))}\n",
    "\n",
    "\n",
    "# A function that returns a dict of object methods.\n",
    "def get_obj_methods(obj):\n",
    "    return {method_name: getattr(obj, method_name)\n",
    "            for method_name in dir(obj)\n",
    "            if (not method_name.startswith('__')\n",
    "            and callable(getattr(obj, method_name)))}\n",
    "\n",
    "\n",
    "# A function that prints a string in markdown format.\n",
    "def printmd(string):\n",
    "    display(Markdown(string))\n",
    "\n",
    "\n",
    "# A function that returns unique values from a text.\n",
    "def unique(list_):\n",
    "    return list(set(list_))"
   ]
  },
  {
   "cell_type": "markdown",
   "metadata": {},
   "source": [
    "## Plotting functions\n"
   ]
  },
  {
   "cell_type": "code",
   "execution_count": 10,
   "metadata": {
    "ExecuteTime": {
     "end_time": "2021-11-08T17:36:40.872294Z",
     "start_time": "2021-11-08T17:36:40.857294Z"
    },
    "code_folding": [
     1,
     12,
     19,
     29,
     40
    ],
    "pycharm": {
     "is_executing": true,
     "name": "#%%\n"
    }
   },
   "outputs": [],
   "source": [
    "# A function that applies default formatting to an axes.\n",
    "def format_axes(axes: plt.Axes,\n",
    "                keep_box=False):\n",
    "    if not keep_box:\n",
    "        axes.spines['top'].set_color('white')\n",
    "        axes.spines['right'].set_color('white')\n",
    "\n",
    "    axes.set_facecolor(\"white\")\n",
    "\n",
    "\n",
    "# A function that applies default formatting to annotation\n",
    "# of an axes.\n",
    "def format_axes_annotation(axes: plt.Axes):\n",
    "    axes.xaxis.label.set_fontsize(14)\n",
    "    axes.yaxis.label.set_fontsize(14)\n",
    "    axes.title.set_fontsize(16)\n",
    "\n",
    "\n",
    "# A function for creating common x-label for the figure.\n",
    "def figure_x_label(figure: plt.Figure,\n",
    "                   label: str,\n",
    "                   y_position=0.04,\n",
    "                   font_size=16):\n",
    "    figure.text(0.5, y_position, label,\n",
    "                ha='center',\n",
    "                fontdict={'size': font_size})\n",
    "\n",
    "\n",
    "# A function for creating common y-label for the figure.\n",
    "def figure_y_label(figure: plt.Figure,\n",
    "                   label: str,\n",
    "                   x_position=0.04,\n",
    "                   font_size=16):\n",
    "    figure.text(x_position, 0.5, label,\n",
    "                va='center',\n",
    "                rotation='vertical',\n",
    "                fontdict={'size': font_size})\n",
    "\n",
    "\n",
    "# A function that draws a horizontal line across the entire axes.\n",
    "def draw_threshold(value: float,\n",
    "                   axes: plt.Axes,\n",
    "                   linewidth=1,\n",
    "                   linestyle='-',\n",
    "                   color=None,\n",
    "                   title=None):\n",
    "\n",
    "    # Get axes limits and ranges.\n",
    "    x_min, x_max = axes.get_xlim()\n",
    "    x_range = x_max - x_min\n",
    "    y_min, y_max = axes.get_ylim()\n",
    "    y_range = y_max - y_min\n",
    "\n",
    "    # Plot the threshold line.\n",
    "    axes.plot([x_min, x_max], [value, value],\n",
    "              linewidth=1,\n",
    "              linestyle='-',\n",
    "              color=color)\n",
    "\n",
    "    # Write a title above the threshold line\n",
    "    if title is not None:\n",
    "        axes.text(x_min + 0.01 * x_range,\n",
    "                  value + 0.02 * y_range,\n",
    "                  title)\n",
    "\n",
    "\n"
   ]
  },
  {
   "cell_type": "markdown",
   "metadata": {},
   "source": [
    "##  Dataframe functions\n"
   ]
  },
  {
   "cell_type": "code",
   "execution_count": 11,
   "metadata": {
    "ExecuteTime": {
     "end_time": "2021-11-08T17:36:40.902295Z",
     "start_time": "2021-11-08T17:36:40.875295Z"
    },
    "code_folding": [
     1,
     18,
     35,
     47,
     77,
     127,
     163
    ],
    "pycharm": {
     "is_executing": true,
     "name": "#%%\n"
    }
   },
   "outputs": [],
   "source": [
    "# A function that gets column names of a dataframe.\n",
    "def get_df_columns(df, exclude=None):\n",
    "    # If columns to be excluded have not been defined,\n",
    "    # represent it as an empty list.\n",
    "    if exclude is None:\n",
    "        exclude = list()\n",
    "\n",
    "    # If the columns to be excluded are not specified using a list\n",
    "    # or a tuple, represent them as a list.\n",
    "    elif not isinstance(exclude, (list, tuple)):\n",
    "        exclude = [exclude]\n",
    "\n",
    "    # Return all column names except the ones to exclude.\n",
    "    return [column for column in df.columns.to_list()\n",
    "            if column not in exclude]\n",
    "\n",
    "\n",
    "# A function that gets rows names of a dataframe.\n",
    "def get_df_rows(df, exclude=None):\n",
    "    # If columns to be excluded have not been defined,\n",
    "    # represent it as an empty list.\n",
    "    if exclude is None:\n",
    "        exclude = list()\n",
    "\n",
    "    # If the columns to be excluded are not specified using a list\n",
    "    # or a tuple, represent them as a list.\n",
    "    elif not isinstance(exclude, (list, tuple)):\n",
    "        exclude = [exclude]\n",
    "\n",
    "    # Return all column names except the ones to exclude.\n",
    "    return [row for row in df.index.to_list()\n",
    "            if row not in exclude]\n",
    "\n",
    "\n",
    "# A function that resets the names of indices\n",
    "def reset_df_index_names(df):\n",
    "    return (\n",
    "        df\n",
    "        .rename_axis(['' for level in range(df.columns.nlevels)],\n",
    "                     axis=\"columns\")\n",
    "        .rename_axis(['' for level in range(df.index.nlevels)],\n",
    "                     axis=\"rows\")\n",
    "    )\n",
    "\n",
    "\n",
    "# A function that sorts the columns in alphabethical order\n",
    "# and puts the user-chosen columns first\n",
    "def df_sort_columns(df: pd.DataFrame,\n",
    "                    first_columns=None):\n",
    "\n",
    "    # Define a function that moves the chosen element to the\n",
    "    # front of the list.\n",
    "    def move_to_front(element, list_):\n",
    "        if element in list_:\n",
    "            list_.insert(0, list_.pop(list_.index(element)))\n",
    "\n",
    "    # Make sure that the columns that are to be put in front\n",
    "    # are represented as a list.\n",
    "    if first_columns is None:\n",
    "        first_columns = list()\n",
    "\n",
    "    # Sort the columns in alphabetical order.\n",
    "    sorted_columns = list(df.columns)\n",
    "    sorted_columns.sort()\n",
    "\n",
    "    # Move the user-chosen columns to the front.\n",
    "    for column in first_columns[::-1]:\n",
    "        move_to_front(column, sorted_columns)\n",
    "\n",
    "    # Assign the ordered columns to the dataframe.\n",
    "    df = df[sorted_columns]\n",
    "\n",
    "    return df\n",
    "\n",
    "\n",
    "# A function that creates a new column representing data in 'value_columns'\n",
    "# for every unique value in 'category_columns'.\n",
    "def df_create_column_for_each_unique_value(df,\n",
    "                                           category_columns,\n",
    "                                           value_columns,\n",
    "                                           aggfunc='first'):\n",
    "\n",
    "    # Always represent category and value columns as a list or tuple.\n",
    "    if not isinstance(category_columns, (list, tuple)):\n",
    "        category_columns = [category_columns]\n",
    "\n",
    "    if not isinstance(value_columns, (list, tuple)):\n",
    "        value_columns = [value_columns]\n",
    "\n",
    "    # Create a colum order for grouping so that all the value columns\n",
    "    # come last and category columns second last. We leave out 1\n",
    "    # value column for the result\n",
    "    cat_and_value_columns = category_columns + value_columns\n",
    "    column_order = (\n",
    "        get_df_columns(df, exclude=cat_and_value_columns)\n",
    "        + cat_and_value_columns[:-1]\n",
    "    )\n",
    "\n",
    "    # Create columns from unique values by grouping and unstacking.\n",
    "    df = (\n",
    "        df\n",
    "        .groupby(column_order)\n",
    "        .first()\n",
    "        .unstack(list(np.arange(-len(cat_and_value_columns) + 1,\n",
    "                                0)))\n",
    "        .reset_index()\n",
    "    )\n",
    "\n",
    "    # Delete the names of the index levels\n",
    "    df = df.rename_axis(['' for level in range(df.columns.nlevels)],\n",
    "                        axis=\"columns\")\n",
    "    return df\n",
    "\n",
    "    # OLD IMPLEMENTATION\n",
    "    #     return (\n",
    "    #         df\n",
    "    #         .pivot_table(values=value_columns,\n",
    "    #                      index=get_df_columns(df,\n",
    "    #                                           exclude=category_columns + value_columns),\n",
    "    #                      columns=category_columns,\n",
    "    #                      aggfunc='first')\n",
    "    #         .reset_index()\n",
    "    #         .rename_axis(('', ''), axis=\"columns\")\n",
    "    #     )\n",
    "\n",
    "\n",
    "# A function that flaattens the multiindex of a dataframe.\n",
    "def flatten_multiindex(df, axis='columns'):\n",
    "\n",
    "    # Get the desired index\n",
    "    if axis in [1, 'columns']:\n",
    "        index = df.columns\n",
    "    elif axis in [0, 'rows']:\n",
    "        index = df.index\n",
    "    else:\n",
    "        raise ValueError(f'Invalid axis: \"{axis}\".')\n",
    "\n",
    "    # Join all the levels except the empty ones with a ', '\n",
    "    flat_index = list()\n",
    "    for element in index.values:\n",
    "        if not isinstance(element, (tuple, list)):\n",
    "            flat_index.append(element)\n",
    "        else:\n",
    "            flat_element = ''\n",
    "            for idx, subelement in enumerate(element):\n",
    "                if subelement:\n",
    "                    if idx == 0:\n",
    "                        flat_element += subelement\n",
    "                    else:\n",
    "                        flat_element += ', ' + subelement\n",
    "\n",
    "            flat_index.append(flat_element)\n",
    "\n",
    "    # Assign the index to the dataframe\n",
    "    if axis in [1, 'columns']:\n",
    "        df.columns = flat_index\n",
    "    elif axis in [0, 'rows']:\n",
    "        df.index = flat_index\n",
    "\n",
    "    return df\n",
    "\n",
    "\n",
    "# A function that creates an empty multiindex of a given depth\n",
    "def create_empty_multiindex(n_levels, names=None):\n",
    "    return pd.MultiIndex.from_arrays(\n",
    "        arrays=[list() for _ in range(n_levels)],\n",
    "        names=names\n",
    "    )"
   ]
  },
  {
   "cell_type": "markdown",
   "metadata": {
    "hide_input": true
   },
   "source": [
    "## Financial functions"
   ]
  },
  {
   "cell_type": "code",
   "execution_count": 12,
   "metadata": {
    "ExecuteTime": {
     "end_time": "2021-11-08T17:36:40.955294Z",
     "start_time": "2021-11-08T17:36:40.905294Z"
    },
    "code_folding": [
     1,
     48,
     110,
     148,
     176,
     193,
     229,
     238,
     253,
     291,
     322,
     330
    ],
    "hide_input": false,
    "pycharm": {
     "is_executing": true
    }
   },
   "outputs": [],
   "source": [
    "# A function that gets the current stock price.\n",
    "def get_stock_price(stock_ticker,\n",
    "                    region='US'):\n",
    "\n",
    "    # Define the URL to yahoo finance API\n",
    "    url = \"https://yh-finance.p.rapidapi.com/market/v2/get-quotes\"\n",
    "\n",
    "\n",
    "    # Define the headers\n",
    "    headers = {\n",
    "        'x-rapidapi-key': \"99d11ce995msh2a48aa267bd6bdap1e3b44jsn6f82f2bcc5ad\",\n",
    "        'x-rapidapi-host': \"yh-finance.p.rapidapi.com\"\n",
    "    }\n",
    "\n",
    "    # Make sure stock ticker is represented as a list\n",
    "    return_as_dict = True\n",
    "    if not isinstance(stock_ticker, list):\n",
    "        return_as_dict = False\n",
    "        stock_ticker = [stock_ticker]\n",
    "    \n",
    "    # Define the query string\n",
    "    query_string = {\n",
    "        \"symbols\": ', '.join(stock_ticker),\n",
    "        \"region\": region\n",
    "    }\n",
    "\n",
    "    # As a query and get the response\n",
    "    response = requests.request(\n",
    "        \"GET\",\n",
    "        url,\n",
    "        headers=headers,\n",
    "        params=query_string\n",
    "    )\n",
    "\n",
    "    # Unpack the content of the response\n",
    "    response_content = json.loads(response.content)\n",
    "    result = response_content['quoteResponse']['result']\n",
    "    \n",
    "    quotes = {info['symbol']: info['regularMarketPrice']\n",
    "              for info in result}\n",
    "    \n",
    "    if not return_as_dict:\n",
    "        quotes = list(quotes.values())[0]\n",
    "\n",
    "    return quotes\n",
    "\n",
    "\n",
    "# Function that gets historical stock prices\n",
    "def get_stock_chart(stock_ticker,\n",
    "                    interval='1d',\n",
    "                    period='5d',\n",
    "                    period_start=None,\n",
    "                    period_end=None,\n",
    "                    region='US'):\n",
    "\n",
    "    # Define the URL to yahoo finance API\n",
    "    url = \"https://apidojo-yahoo-finance-v1.p.rapidapi.com/stock/v2/get-chart\"\n",
    "\n",
    "    # Define the headers\n",
    "    headers = {\n",
    "        'x-rapidapi-key': \"99d11ce995msh2a48aa267bd6bdap1e3b44jsn6f82f2bcc5ad\",\n",
    "        'x-rapidapi-host': \"apidojo-yahoo-finance-v1.p.rapidapi.com\"\n",
    "    }\n",
    "\n",
    "    # Define the query string\n",
    "    if (period_start is None) or (period_end is None):\n",
    "        query_string = {\n",
    "            \"interval\": interval,\n",
    "            \"range\": period,\n",
    "            \"symbol\": stock_ticker,\n",
    "            \"region\": region\n",
    "        }\n",
    "    else:\n",
    "        query_string = {\n",
    "            \"interval\": interval,\n",
    "            \"period1\": f'{datetime.datetime.timestamp(period_start):.0f}',\n",
    "            \"period2\": f'{datetime.datetime.timestamp(period_end):.0f}',\n",
    "            \"symbol\": stock_ticker,\n",
    "            \"region\": region\n",
    "        }\n",
    "\n",
    "    # As a query and get the response\n",
    "    response = requests.request(\n",
    "        \"GET\",\n",
    "        url,\n",
    "        headers=headers,\n",
    "        params=query_string\n",
    "    )\n",
    "\n",
    "    # Unpack the content of the response\n",
    "    response_content = json.loads(response.content)\n",
    "    result = response_content['chart']['result'][0]\n",
    "    timestampes = result['timestamp']\n",
    "    quotes = result['indicators']['quote'][0]\n",
    "\n",
    "    # Initialize the result dataframe.\n",
    "    df_results = pd.DataFrame()\n",
    "\n",
    "    # Put the dates in a pandas dataframe.\n",
    "    df_results['date'] = [datetime.datetime.fromtimestamp(timestamp)\n",
    "                          for timestamp in result['timestamp']]\n",
    "\n",
    "    # Add the quotes\n",
    "    df_results = pd.concat([df_results, pd.DataFrame().from_dict(quotes)],\n",
    "                           axis=1)\n",
    "\n",
    "    return df_results\n",
    "\n",
    "\n",
    "# A function that calcluates current or historical currency exchange rates.\n",
    "def get_currency_exchange_rate(from_currency, to_currency, date='latest'):\n",
    "    \n",
    "    # API url.\n",
    "    url = f\"https://fixer-fixer-currency-v1.p.rapidapi.com/{date}\"\n",
    "    \n",
    "    # API header.\n",
    "    headers = {\n",
    "        'x-rapidapi-key': \"99d11ce995msh2a48aa267bd6bdap1e3b44jsn6f82f2bcc5ad\",\n",
    "        'x-rapidapi-host': \"fixer-fixer-currency-v1.p.rapidapi.com\"\n",
    "    }\n",
    "    \n",
    "    # Ensure that \"to_currency\" is a list.\n",
    "    return_as_dict = True\n",
    "    if not isinstance(to_currency, list):\n",
    "        return_as_dict = False\n",
    "        to_currency = [to_currency]\n",
    "\n",
    "    # The queries.\n",
    "    querystring = {\"symbols\": ','.join(to_currency),\n",
    "                   \"base\": from_currency}\n",
    "\n",
    "    # Send query and get the response.\n",
    "    response = requests.request(\"GET\",\n",
    "                                url,\n",
    "                                headers=headers,\n",
    "                                params=querystring)\n",
    "    \n",
    "    # Unpack the response.\n",
    "    response_content = json.loads(response.content)\n",
    "    rates = response_content['rates']\n",
    "    \n",
    "    if not return_as_dict:\n",
    "        rates = list(rates.values())[0]\n",
    "        \n",
    "    return rates\n",
    "\n",
    "\n",
    "# A function that calculates the taxes from the sale of shares.\n",
    "def tax_regulated_market(country,\n",
    "                         total_gain):\n",
    "    \n",
    "    # Denmark\n",
    "    if country == 'DK':\n",
    "        knee_point = 56500\n",
    "        tax_rate_high = 0.42\n",
    "        tax_rate_low = 0.27\n",
    "\n",
    "        tax = (\n",
    "            -max([0, total_gain - knee_point]) * tax_rate_high\n",
    "            - min([total_gain, knee_point]) * tax_rate_low\n",
    "        )\n",
    "        \n",
    "    # Italy\n",
    "    elif country == 'IT':\n",
    "        tax_rate = 0.26\n",
    "        tax = -max([0, total_gain * tax_rate])\n",
    "    \n",
    "    # If the country is invalid, return an error:\n",
    "    else:\n",
    "        raise ValueError(f'Invalid country: \"{country}\".')\n",
    "        \n",
    "\n",
    "    return tax\n",
    "\n",
    "\n",
    "# Funzione che calcola le tasse in base al guadagno totale.\n",
    "def calculate_personal_tax_dk(income):\n",
    "    tax_free_knee = 46700\n",
    "    topskat_knee = 544800\n",
    "\n",
    "    # Le tasse\n",
    "    tax_rate_bundskat = 0.1211\n",
    "    tax_rate_kommuneskat = 0.2380\n",
    "    tax_rate_topskat = 0.15\n",
    "\n",
    "    return (\n",
    "        - max([0.00, income - tax_free_knee]) * (\n",
    "            tax_rate_bundskat + tax_rate_kommuneskat)\n",
    "        - max([0.00, income - topskat_knee]) * tax_rate_topskat\n",
    "    )\n",
    "\n",
    "\n",
    "# Tasse danesi, mercato non regolato.\n",
    "def tax_non_regulated_market(country,\n",
    "                             total_gain,\n",
    "                             other_income_after_am_bidrag=None):\n",
    "    \n",
    "    # Denmark\n",
    "    if country == 'DK':\n",
    "        # The sum of income in a given year.\n",
    "        total_income = total_gain + other_income_after_am_bidrag\n",
    "\n",
    "        # Calculate tax.\n",
    "        tax_personal = (\n",
    "            calculate_personal_tax_dk(total_income)\n",
    "            - calculate_personal_tax_dk(other_income_after_am_bidrag)\n",
    "        )\n",
    "        \n",
    "        # Return only the part of the total personal tax that originates\n",
    "        # from the non regulated market\n",
    "        tax_shares_non_regulated = (\n",
    "            calculate_personal_tax_dk(total_income)\n",
    "            - calculate_personal_tax_dk(other_income_after_am_bidrag)\n",
    "        )\n",
    "        \n",
    "    # Italy\n",
    "    elif country == 'IT':\n",
    "        tax_rate = 0.26\n",
    "        tax_shares_non_regulated = -max([0.00, total_gain * tax_rate])\n",
    "    \n",
    "    # If the country is invalid, return an error:\n",
    "    else:\n",
    "        raise ValueError(f'Invalid country: \"{country}\".')\n",
    "\n",
    "\n",
    "    return tax_shares_non_regulated\n",
    "\n",
    "\n",
    "# Tasse danesi, mercato non regolato.\n",
    "def tax_aktiesparekonto(total_gain, already_paid_tax):\n",
    "    tax_rate_aktiesparekonto = 0.17\n",
    "\n",
    "    return (\n",
    "        min([0,\n",
    "             (-total_gain * tax_rate_aktiesparekonto + already_paid_tax)])\n",
    "    )\n",
    "\n",
    "\n",
    "def tax_interest_from_pension(total_gain, tax_already_paid, country='DK'):\n",
    "    # Set the tax rate.\n",
    "    if country == 'DK':\n",
    "        tax_rate = 0.15\n",
    "    else:\n",
    "        raise ValueError(f'Invalid country: \"{country}\".')\n",
    "        \n",
    "    # Calculate and return tax.\n",
    "    return (\n",
    "        min([0,\n",
    "             (-total_gain * tax_rate + tax_already_paid)])\n",
    "    )\n",
    "\n",
    "\n",
    "# Funzione che fa si che i prezzi si vedano sia in EUR sia in DKK.\n",
    "def df_fill_missing_prices(df):\n",
    "    \n",
    "    # To avoid carrying out operations inplace.\n",
    "    df = df.copy()\n",
    "    \n",
    "    # Define conversion rates. This takes long time and therefore is\n",
    "    # done only once here in this function.\n",
    "    EUR_to_DKK = CurrencyConverter().convert(1, 'EUR', 'DKK')\n",
    "    DKK_to_EUR = CurrencyConverter().convert(1, 'DKK', 'EUR')\n",
    "\n",
    "    for column_name in list(df.columns):\n",
    "        if 'DKK' in column_name:\n",
    "            column_name_dkk = column_name\n",
    "            column_name_eur = column_name.replace('DKK', 'EUR')\n",
    "\n",
    "        elif 'EUR' in column_name:\n",
    "            column_name_dkk = column_name.replace('EUR', 'DKK')\n",
    "            column_name_eur = column_name\n",
    "\n",
    "        # If both DKK and EUR are not in column names, go to next iteration\n",
    "        if not ((column_name_dkk in df.columns)\n",
    "                and (column_name_eur in df.columns)):\n",
    "            continue\n",
    "\n",
    "        for idx, row in df.iterrows():\n",
    "            if np.isnan(row[column_name_dkk]):\n",
    "                df.loc[idx, column_name_dkk] = (\n",
    "                    row[column_name_eur] * EUR_to_DKK\n",
    "                )\n",
    "            if np.isnan(row[column_name_eur]):\n",
    "                df.loc[idx, column_name_eur] = (\n",
    "                    row[column_name_dkk] * DKK_to_EUR\n",
    "                )\n",
    "\n",
    "    return(df)\n",
    "\n",
    "\n",
    "# A function for calculating totals\n",
    "def df_calculate_totals(df,\n",
    "                        name_total=None,\n",
    "                        exclude_from_total=None):\n",
    "    \n",
    "    # To avoid carrying out operations inplace.\n",
    "    df = df.copy()\n",
    "\n",
    "    # Inizialliza il nome della riga: totale.\n",
    "    if name_total is None:\n",
    "        if df.index.nlevels == 1:\n",
    "            name_total = 'Totale'\n",
    "        else:\n",
    "            name_total = tuple(\n",
    "                ['Totale'] + ['' for _ in range(df.index.nlevels - 1)])\n",
    "\n",
    "    # Inizializza elenco delle righe che verranno esclusi dal conto totale.\n",
    "    if exclude_from_total is None:\n",
    "        exclude_from_total = list()\n",
    "\n",
    "    # Calcola il totale.\n",
    "    df.loc[name_total, :] = (\n",
    "        df\n",
    "        .loc[get_df_rows(df, exclude=[name_total] + exclude_from_total),\n",
    "             :]\n",
    "        .sum()\n",
    "    )\n",
    "\n",
    "    return df\n",
    "\n",
    "\n",
    "# Calculates real interest after tax and inflation.\n",
    "def real_interest(interest, tax, inflation):\n",
    "    '''\n",
    "    The function calculates real interest after tax and inflation.\n",
    "    '''\n",
    "    return (interest * (1 - tax) - inflation) / (1 + inflation)\n",
    "    \n",
    "# Funzione che assicura che i prezzi si vedano sia in EUR sia in DKK\n",
    "# e calcola i totali.\n",
    "def df_fill_missing_prices_and_calculate_totals(df,\n",
    "                                                name_total=None,\n",
    "                                                exclude_from_total=None):\n",
    "    \n",
    "    # To avoid carrying out operations inplace.\n",
    "    df = df.copy()\n",
    "    \n",
    "    # Assicura che tutti i prezzi si vedano sia in DKK sia in EUR.\n",
    "    df = df_fill_missing_prices(df)\n",
    "\n",
    "    # Calcola i totali\n",
    "    df = df_calculate_totals(df, name_total, exclude_from_total)\n",
    "\n",
    "    return df"
   ]
  },
  {
   "cell_type": "markdown",
   "metadata": {},
   "source": [
    "## Data science functions"
   ]
  },
  {
   "cell_type": "code",
   "execution_count": 13,
   "metadata": {
    "ExecuteTime": {
     "end_time": "2021-11-08T17:36:40.969295Z",
     "start_time": "2021-11-08T17:36:40.957294Z"
    },
    "code_folding": [
     2,
     23
    ]
   },
   "outputs": [],
   "source": [
    "# A function for balancing a dataframe so that the number of rows\n",
    "# containing each value present in the designated column will be the same.\n",
    "def balance_dataframe(df: pd.DataFrame, column_name):\n",
    "    # Get the count of the least frequent ocurrence in column.\n",
    "    lowest_frequency = df[column_name].value_counts().min()\n",
    "\n",
    "    # Create an empty dataframe for storing the balanced data\n",
    "    df_balanced = pd.DataFrame()\n",
    "\n",
    "    # For each value in column, randomly choose the number of samples\n",
    "    # that corresponds to the least frequent value in the column.\n",
    "    for value in df[column_name].unique():\n",
    "        df_balanced = df_balanced.append(\n",
    "            df\n",
    "            .loc[df[column_name] == value]\n",
    "            .sample(lowest_frequency)\n",
    "        )\n",
    "\n",
    "    return df_balanced\n",
    "\n",
    "\n",
    "# A function that evaluates a dictionary of models on data from\n",
    "# a pandas dataframe.\n",
    "def evaluate_models(models: dict,\n",
    "                    df: pd.DataFrame,\n",
    "                    predictor_labels: list,\n",
    "                    target_label: str,\n",
    "                    test_size=0.33):\n",
    "\n",
    "    # Get the dataset.\n",
    "    X = df.loc[:, predictor_labels].values\n",
    "    y = df.loc[:, target_label].values\n",
    "\n",
    "    # Split the dataset into a test and training set.\n",
    "    X_train, X_test, y_train, y_test = train_test_split(\n",
    "        X, y, test_size=test_size, random_state=32)\n",
    "\n",
    "    # Fit the models to the data.\n",
    "    for model_name, model in models.items():\n",
    "\n",
    "        # Print the name of the model.\n",
    "        printmd(f'*__{model_name}:__*')\n",
    "\n",
    "        # Train the model on the training set.\n",
    "        model.fit(X_train, y_train)\n",
    "\n",
    "        # Get the predictions on the test set.\n",
    "        predictions = model.predict(X_test)\n",
    "\n",
    "        # Print the classification report.\n",
    "        print(classification_report(y_test, predictions,\n",
    "                                    zero_division=0,\n",
    "                                    digits=4))"
   ]
  }
 ],
 "metadata": {
  "hide_input": false,
  "kernelspec": {
   "display_name": "PyCharm (Exercises)",
   "language": "python",
   "name": "pycharm-f0629d26"
  },
  "language_info": {
   "codemirror_mode": {
    "name": "ipython",
    "version": 3
   },
   "file_extension": ".py",
   "mimetype": "text/x-python",
   "name": "python",
   "nbconvert_exporter": "python",
   "pygments_lexer": "ipython3",
   "version": "3.8.11"
  },
  "toc": {
   "base_numbering": 1,
   "nav_menu": {},
   "number_sections": true,
   "sideBar": true,
   "skip_h1_title": false,
   "title_cell": "Table of Contents",
   "title_sidebar": "Contents",
   "toc_cell": false,
   "toc_position": {
    "height": "calc(100% - 180px)",
    "left": "10px",
    "top": "150px",
    "width": "268.993px"
   },
   "toc_section_display": true,
   "toc_window_display": true
  },
  "widgets": {
   "application/vnd.jupyter.widget-state+json": {
    "state": {
     "093e89bffde74c5a8863a1d8ffe0bb66": {
      "model_module": "@jupyter-widgets/controls",
      "model_module_version": "1.5.0",
      "model_name": "DescriptionStyleModel",
      "state": {
       "description_width": ""
      }
     },
     "1a5365fd770e464891fe02b94cb34b95": {
      "model_module": "@jupyter-widgets/base",
      "model_module_version": "1.2.0",
      "model_name": "LayoutModel",
      "state": {}
     },
     "1c7a498865af41a1bd4af63eca07bd28": {
      "model_module": "@jupyter-widgets/controls",
      "model_module_version": "1.5.0",
      "model_name": "FloatTextModel",
      "state": {
       "layout": "IPY_MODEL_68759d18977d4757ba3eb3cf81aa1129",
       "step": null,
       "style": "IPY_MODEL_feea9000784940f3b601fd1ba613dd31"
      }
     },
     "1ee2806f2e314951b8b42666540f6aee": {
      "model_module": "@jupyter-widgets/base",
      "model_module_version": "1.2.0",
      "model_name": "LayoutModel",
      "state": {}
     },
     "371339a327cc48d8a56358f512674975": {
      "model_module": "@jupyter-widgets/base",
      "model_module_version": "1.2.0",
      "model_name": "LayoutModel",
      "state": {}
     },
     "65604f719f9e41f3b6d495d3aa907529": {
      "model_module": "@jupyter-widgets/controls",
      "model_module_version": "1.5.0",
      "model_name": "SliderStyleModel",
      "state": {
       "description_width": ""
      }
     },
     "68759d18977d4757ba3eb3cf81aa1129": {
      "model_module": "@jupyter-widgets/base",
      "model_module_version": "1.2.0",
      "model_name": "LayoutModel",
      "state": {}
     },
     "68dd48c190fe4b8c92790dc65803d785": {
      "model_module": "@jupyter-widgets/controls",
      "model_module_version": "1.5.0",
      "model_name": "DropdownModel",
      "state": {
       "_options_labels": [
        "One",
        "Two",
        "Three"
       ],
       "description": "Number:",
       "index": 1,
       "layout": "IPY_MODEL_371339a327cc48d8a56358f512674975",
       "style": "IPY_MODEL_89e645fe88da40b2890bc1c08b50be78"
      }
     },
     "839595af423541ef946ce08e437e5b7e": {
      "model_module": "@jupyter-widgets/controls",
      "model_module_version": "1.5.0",
      "model_name": "DescriptionStyleModel",
      "state": {
       "description_width": ""
      }
     },
     "89e645fe88da40b2890bc1c08b50be78": {
      "model_module": "@jupyter-widgets/controls",
      "model_module_version": "1.5.0",
      "model_name": "DescriptionStyleModel",
      "state": {
       "description_width": ""
      }
     },
     "9091258d01434bf8ac0f41c12363e6a8": {
      "model_module": "@jupyter-widgets/controls",
      "model_module_version": "1.5.0",
      "model_name": "FloatTextModel",
      "state": {
       "layout": "IPY_MODEL_c22c18c67fe24f06ada7d28e3cb6ff90",
       "step": null,
       "style": "IPY_MODEL_839595af423541ef946ce08e437e5b7e"
      }
     },
     "afadc0b9a4f3458685319c1818955895": {
      "model_module": "@jupyter-widgets/controls",
      "model_module_version": "1.5.0",
      "model_name": "DropdownModel",
      "state": {
       "_options_labels": [
        "One",
        "Two",
        "Three"
       ],
       "description": "Number:",
       "index": 1,
       "layout": "IPY_MODEL_1ee2806f2e314951b8b42666540f6aee",
       "style": "IPY_MODEL_093e89bffde74c5a8863a1d8ffe0bb66"
      }
     },
     "c22c18c67fe24f06ada7d28e3cb6ff90": {
      "model_module": "@jupyter-widgets/base",
      "model_module_version": "1.2.0",
      "model_name": "LayoutModel",
      "state": {}
     },
     "c64dd728486c4d4396b6b2b4a02ca054": {
      "model_module": "@jupyter-widgets/controls",
      "model_module_version": "1.5.0",
      "model_name": "FloatSliderModel",
      "state": {
       "layout": "IPY_MODEL_1a5365fd770e464891fe02b94cb34b95",
       "step": 0.1,
       "style": "IPY_MODEL_ff2f617f26294276834c51733d0f253c"
      }
     },
     "d7c60be1aeb643fe9d80a622e61b4cc2": {
      "model_module": "@jupyter-widgets/base",
      "model_module_version": "1.2.0",
      "model_name": "LayoutModel",
      "state": {}
     },
     "fe21ecb1be5e431c9745cf04421dc9a0": {
      "model_module": "@jupyter-widgets/controls",
      "model_module_version": "1.5.0",
      "model_name": "FloatSliderModel",
      "state": {
       "layout": "IPY_MODEL_d7c60be1aeb643fe9d80a622e61b4cc2",
       "step": 0.1,
       "style": "IPY_MODEL_65604f719f9e41f3b6d495d3aa907529",
       "value": 55.4
      }
     },
     "feea9000784940f3b601fd1ba613dd31": {
      "model_module": "@jupyter-widgets/controls",
      "model_module_version": "1.5.0",
      "model_name": "DescriptionStyleModel",
      "state": {
       "description_width": ""
      }
     },
     "ff2f617f26294276834c51733d0f253c": {
      "model_module": "@jupyter-widgets/controls",
      "model_module_version": "1.5.0",
      "model_name": "SliderStyleModel",
      "state": {
       "description_width": ""
      }
     }
    },
    "version_major": 2,
    "version_minor": 0
   }
  }
 },
 "nbformat": 4,
 "nbformat_minor": 1
}