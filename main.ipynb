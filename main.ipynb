{
 "cells": [
  {
   "cell_type": "markdown",
   "metadata": {
    "hide_input": true
   },
   "source": [
    "<span style=\"font-family:Lucida Bright;\">\n",
    "<p style=\"margin-bottom:0.5cm\"></p>\n",
    "<center>\n",
    "<font size=\"8\"><b>Deep Learning, Fall 2021</b></font>\n",
    "<p style=\"margin-bottom:0.6cm\"></p>\n",
    "<font size=\"3\"><b>Final Project:</b></font>\n",
    "<p style=\"margin-bottom:0.6cm\"></p>\n",
    "<font size=\"5\"><b>Enhancing Voices for Better Speech Intelligibility</b></font>\n",
    "<p style=\"margin-bottom:2cm\"></p>\n",
    "<font size=\"6\"><b>Start</b></font>\n",
    "</center>\n",
    "<p style=\"margin-bottom:2cm\"></p>"
   ]
  },
  {
   "cell_type": "markdown",
   "metadata": {
    "toc": true
   },
   "source": [
    "<h1>Table of Contents<span class=\"tocSkip\"></span></h1>\n",
    "<div class=\"toc\"><ul class=\"toc-item\"><li><span><a href=\"#Setup\" data-toc-modified-id=\"Setup-1\"><span class=\"toc-item-num\">1&nbsp;&nbsp;</span>Setup</a></span><ul class=\"toc-item\"><li><span><a href=\"#Initialization\" data-toc-modified-id=\"Initialization-1.1\"><span class=\"toc-item-num\">1.1&nbsp;&nbsp;</span>Initialization</a></span></li><li><span><a href=\"#Load-data\" data-toc-modified-id=\"Load-data-1.2\"><span class=\"toc-item-num\">1.2&nbsp;&nbsp;</span>Load data</a></span></li></ul></li><li><span><a href=\"#Load-wav-file\" data-toc-modified-id=\"Load-wav-file-2\"><span class=\"toc-item-num\">2&nbsp;&nbsp;</span>Load wav file</a></span></li></ul></div>"
   ]
  },
  {
   "cell_type": "markdown",
   "source": [
    "# Introduction"
   ],
   "metadata": {
    "collapsed": false,
    "pycharm": {
     "name": "#%% md\n"
    }
   },
   "outputs": [],
   "execution_count": 1
  },
  {
   "cell_type": "markdown",
   "source": [
    "In this notebook, we will blah blah"
   ],
   "metadata": {
    "collapsed": false,
    "pycharm": {
     "name": "#%% md\n"
    }
   }
  },
  {
   "cell_type": "markdown",
   "metadata": {
    "hide_input": true
   },
   "source": [
    "## How to get the most out of this notebook"
   ]
  },
  {
   "cell_type": "markdown",
   "source": [
    "To fully enjoy the content of this notebook, please take note of the following:\n",
    "\n",
    "- The outputs of pre-executed cells will not be rendered properly unless the notebook is **Trusted**.\n",
    "\n",
    "- To avoid accidental changes, most of the cells in this notebook are marked-as read only, and many are frozen (i.e. disabled from being run). To take advantage of these features, it is recommended to use the extension\n",
    "[Freeze Cell](https://jupyter-contrib-nbextensions.readthedocs.io/en/latest/nbextensions/freeze/readme.html)  which works with Jupyter Notebook."
   ],
   "metadata": {
    "collapsed": false
   }
  },
  {
   "cell_type": "markdown",
   "source": [
    "## Prerequisites"
   ],
   "metadata": {
    "collapsed": false
   }
  },
  {
   "cell_type": "markdown",
   "source": [
    "This notebook is a part of project. To be able to execute all of its content:\n",
    "\n",
    "1. Download the project repository: `https://github.com/wojciechdk/deep-learning-2021-final-project.git` and run the notebook from the root.\n",
    "\n",
    "2. Download the [TIMIT dataset](https://academictorrents.com/details/34e2b78745138186976cbc27939b1b34d18bd5b3), unpack it, and place it so that the folders *DOC*, *TEST*, and *TRAIN* are placed in the folder `[root]\\resources\\data\\TIMIT`."
   ],
   "metadata": {
    "collapsed": false
   }
  },
  {
   "cell_type": "markdown",
   "source": [
    "## Links and resources"
   ],
   "metadata": {
    "collapsed": false,
    "pycharm": {
     "name": "#%% md\n"
    }
   }
  },
  {
   "cell_type": "markdown",
   "source": [
    "- If you are reading the HTML version of this notebook and would like to download the ipynb source, you can do it [here](https://github.com/wojciechdk/deep-learning-2021-final-project/blob/main/main.ipynb).\n",
    "\n",
    "- The Git repository containing the entire project can be accessed [here](https://github.com/wojciechdk/deep-learning-2021-final-project.git)."
   ],
   "metadata": {
    "collapsed": false
   }
  },
  {
   "cell_type": "markdown",
   "source": [
    "\n",
    "# Setup"
   ],
   "metadata": {
    "collapsed": false
   }
  },
  {
   "cell_type": "markdown",
   "metadata": {
    "pycharm": {
     "name": "#%% md\n"
    }
   },
   "source": [
    "## Initialization"
   ]
  },
  {
   "cell_type": "markdown",
   "source": [
    "The entire initialization process, including:\n",
    " - imports of the necessary packages\n",
    " - configuration of the notebook and packages\n",
    " - imports of the toolbox functions\n",
    "\n",
    "is defined in the file [toolbox/initialization.py](toolbox/initialization.py)"
   ],
   "metadata": {
    "collapsed": false,
    "pycharm": {
     "name": "#%% md\n"
    }
   }
  },
  {
   "cell_type": "markdown",
   "metadata": {},
   "source": []
  },
  {
   "cell_type": "code",
   "execution_count": 1,
   "metadata": {
    "pycharm": {
     "name": "#%%\n"
    }
   },
   "outputs": [],
   "source": [
    "from toolbox.initialization import *"
   ]
  },
  {
   "cell_type": "markdown",
   "metadata": {},
   "source": [
    "## Load data"
   ]
  },
  {
   "cell_type": "markdown",
   "source": [
    "### TIMIT dataset"
   ],
   "metadata": {
    "collapsed": false,
    "pycharm": {
     "name": "#%% md\n"
    }
   }
  },
  {
   "cell_type": "markdown",
   "metadata": {
    "pycharm": {
     "name": "#%% md\n"
    }
   },
   "source": [
    "The metadata about the TIMIT dataset is loaded using the function `load_timit_data` defined in the module `toolbox\\data_loading.py`. Once loaded, the data is saved in the project cache as a Pandas dataframe. Let's load it and show a couple of rows:"
   ]
  },
  {
   "cell_type": "code",
   "execution_count": 2,
   "outputs": [
    {
     "data": {
      "text/plain": "     sentence_number data_group        dialect gender speaker  \\\n379               55      train    New England      M    WAR0   \n305              150      train    New England      M    RDD0   \n5533            2027       test  South Midland      M    RKO0   \n3626             250      train  New York City      M    TXS0   \n5198               9       test  North Midland      M    MWH0   \n\n                      type                                               text  \\\n379   phonetically-compact  The lack of heat compounded the tenant's griev...   \n305   phonetically-compact                   Vietnamese cuisine is exquisite.   \n5533  phonetically-diverse     They came upon cheetal deer at woodland pools.   \n3626  phonetically-compact  The Boston Ballet overcame their funding short...   \n5198  phonetically-compact                 Where were you while we were away?   \n\n                     audio_path start_sample end_sample  \\\n379    train\\DR1\\MWAR0\\SX55.wav            0      52941   \n305   train\\DR1\\MRDD0\\SX150.wav            0      32359   \n5533  test\\DR4\\MRKO0\\SI2027.wav            0      55092   \n3626  train\\DR6\\MTXS0\\SX250.wav            0      52839   \n5198     test\\DR3\\MMWH0\\SX9.wav            0      28570   \n\n                                             words_text  \\\n379   [the, lack, of, heat, compounded, the, tenant'...   \n305                [vietnamese, cuisine, is, exquisite]   \n5533  [they, came, upon, cheetal, deer, at, woodland...   \n3626  [the, boston, ballet, overcame, their, funding...   \n5198          [where, were, you, while, we, were, away]   \n\n                                     words_start_sample  \\\n379   [2160, 3248, 8590, 10402, 15580, 26559, 27720,...   \n305                         [2103, 10057, 19891, 22610]   \n5533  [1945, 3960, 8840, 14800, 22920, 31540, 34130,...   \n3626    [2225, 3212, 12371, 21607, 31520, 34215, 41475]   \n5198     [2129, 5472, 6851, 10318, 14120, 16292, 19676]   \n\n                                       words_end_sample  \\\n379   [3248, 8590, 10402, 15580, 26559, 27720, 36971...   \n305                        [10057, 19891, 22610, 31340]   \n5533  [3960, 8840, 14800, 22920, 28783, 34130, 42770...   \n3626   [3212, 12371, 20120, 31520, 34215, 41475, 50740]   \n5198    [5472, 6851, 10318, 14120, 16292, 19676, 25817]   \n\n                                          phonemes_text  \\\n379   [h#, dh, ax, l, ae, kcl, k, ih, v, hh, iy, tcl...   \n305   [h#, v, y, eh, tcl, n, ix, m, iy, s, kcl, k, w...   \n5533  [h#, dh, ey, kcl, k, ey, m, ax, pcl, p, ow, n,...   \n3626  [h#, dh, ax, bcl, b, ao, s, tcl, en, bcl, b, a...   \n5198  [h#, w, eh, r, w, axr, y, ux, w, aa, l, w, iy,...   \n\n                                  phonemes_start_sample  \\\n379   [0, 2160, 2630, 3248, 4762, 7098, 8160, 8590, ...   \n305   [0, 2103, 2860, 3320, 4328, 5053, 5440, 6240, ...   \n5533  [0, 1945, 2481, 3960, 5000, 5620, 7560, 8840, ...   \n3626  [0, 2225, 2603, 3212, 4530, 4809, 7519, 10220,...   \n5198  [0, 2129, 3174, 4887, 5472, 6140, 6851, 8939, ...   \n\n                                    phonemes_end_sample  \n379   [2160, 2630, 3248, 4762, 7098, 8160, 8590, 944...  \n305   [2103, 2860, 3320, 4328, 5053, 5440, 6240, 706...  \n5533  [1945, 2481, 3960, 5000, 5620, 7560, 8840, 964...  \n3626  [2225, 2603, 3212, 4530, 4809, 7519, 10220, 10...  \n5198  [2129, 3174, 4887, 5472, 6140, 6851, 8939, 103...  ",
      "text/html": "<div>\n<style scoped>\n    .dataframe tbody tr th:only-of-type {\n        vertical-align: middle;\n    }\n\n    .dataframe tbody tr th {\n        vertical-align: top;\n    }\n\n    .dataframe thead th {\n        text-align: right;\n    }\n</style>\n<table border=\"1\" class=\"dataframe\">\n  <thead>\n    <tr style=\"text-align: right;\">\n      <th></th>\n      <th>sentence_number</th>\n      <th>data_group</th>\n      <th>dialect</th>\n      <th>gender</th>\n      <th>speaker</th>\n      <th>type</th>\n      <th>text</th>\n      <th>audio_path</th>\n      <th>start_sample</th>\n      <th>end_sample</th>\n      <th>words_text</th>\n      <th>words_start_sample</th>\n      <th>words_end_sample</th>\n      <th>phonemes_text</th>\n      <th>phonemes_start_sample</th>\n      <th>phonemes_end_sample</th>\n    </tr>\n  </thead>\n  <tbody>\n    <tr>\n      <th>379</th>\n      <td>55</td>\n      <td>train</td>\n      <td>New England</td>\n      <td>M</td>\n      <td>WAR0</td>\n      <td>phonetically-compact</td>\n      <td>The lack of heat compounded the tenant's griev...</td>\n      <td>train\\DR1\\MWAR0\\SX55.wav</td>\n      <td>0</td>\n      <td>52941</td>\n      <td>[the, lack, of, heat, compounded, the, tenant'...</td>\n      <td>[2160, 3248, 8590, 10402, 15580, 26559, 27720,...</td>\n      <td>[3248, 8590, 10402, 15580, 26559, 27720, 36971...</td>\n      <td>[h#, dh, ax, l, ae, kcl, k, ih, v, hh, iy, tcl...</td>\n      <td>[0, 2160, 2630, 3248, 4762, 7098, 8160, 8590, ...</td>\n      <td>[2160, 2630, 3248, 4762, 7098, 8160, 8590, 944...</td>\n    </tr>\n    <tr>\n      <th>305</th>\n      <td>150</td>\n      <td>train</td>\n      <td>New England</td>\n      <td>M</td>\n      <td>RDD0</td>\n      <td>phonetically-compact</td>\n      <td>Vietnamese cuisine is exquisite.</td>\n      <td>train\\DR1\\MRDD0\\SX150.wav</td>\n      <td>0</td>\n      <td>32359</td>\n      <td>[vietnamese, cuisine, is, exquisite]</td>\n      <td>[2103, 10057, 19891, 22610]</td>\n      <td>[10057, 19891, 22610, 31340]</td>\n      <td>[h#, v, y, eh, tcl, n, ix, m, iy, s, kcl, k, w...</td>\n      <td>[0, 2103, 2860, 3320, 4328, 5053, 5440, 6240, ...</td>\n      <td>[2103, 2860, 3320, 4328, 5053, 5440, 6240, 706...</td>\n    </tr>\n    <tr>\n      <th>5533</th>\n      <td>2027</td>\n      <td>test</td>\n      <td>South Midland</td>\n      <td>M</td>\n      <td>RKO0</td>\n      <td>phonetically-diverse</td>\n      <td>They came upon cheetal deer at woodland pools.</td>\n      <td>test\\DR4\\MRKO0\\SI2027.wav</td>\n      <td>0</td>\n      <td>55092</td>\n      <td>[they, came, upon, cheetal, deer, at, woodland...</td>\n      <td>[1945, 3960, 8840, 14800, 22920, 31540, 34130,...</td>\n      <td>[3960, 8840, 14800, 22920, 28783, 34130, 42770...</td>\n      <td>[h#, dh, ey, kcl, k, ey, m, ax, pcl, p, ow, n,...</td>\n      <td>[0, 1945, 2481, 3960, 5000, 5620, 7560, 8840, ...</td>\n      <td>[1945, 2481, 3960, 5000, 5620, 7560, 8840, 964...</td>\n    </tr>\n    <tr>\n      <th>3626</th>\n      <td>250</td>\n      <td>train</td>\n      <td>New York City</td>\n      <td>M</td>\n      <td>TXS0</td>\n      <td>phonetically-compact</td>\n      <td>The Boston Ballet overcame their funding short...</td>\n      <td>train\\DR6\\MTXS0\\SX250.wav</td>\n      <td>0</td>\n      <td>52839</td>\n      <td>[the, boston, ballet, overcame, their, funding...</td>\n      <td>[2225, 3212, 12371, 21607, 31520, 34215, 41475]</td>\n      <td>[3212, 12371, 20120, 31520, 34215, 41475, 50740]</td>\n      <td>[h#, dh, ax, bcl, b, ao, s, tcl, en, bcl, b, a...</td>\n      <td>[0, 2225, 2603, 3212, 4530, 4809, 7519, 10220,...</td>\n      <td>[2225, 2603, 3212, 4530, 4809, 7519, 10220, 10...</td>\n    </tr>\n    <tr>\n      <th>5198</th>\n      <td>9</td>\n      <td>test</td>\n      <td>North Midland</td>\n      <td>M</td>\n      <td>MWH0</td>\n      <td>phonetically-compact</td>\n      <td>Where were you while we were away?</td>\n      <td>test\\DR3\\MMWH0\\SX9.wav</td>\n      <td>0</td>\n      <td>28570</td>\n      <td>[where, were, you, while, we, were, away]</td>\n      <td>[2129, 5472, 6851, 10318, 14120, 16292, 19676]</td>\n      <td>[5472, 6851, 10318, 14120, 16292, 19676, 25817]</td>\n      <td>[h#, w, eh, r, w, axr, y, ux, w, aa, l, w, iy,...</td>\n      <td>[0, 2129, 3174, 4887, 5472, 6140, 6851, 8939, ...</td>\n      <td>[2129, 3174, 4887, 5472, 6140, 6851, 8939, 103...</td>\n    </tr>\n  </tbody>\n</table>\n</div>"
     },
     "metadata": {},
     "output_type": "display_data"
    }
   ],
   "source": [
    "# Load the TIMIT meta data from the cache.\n",
    "df_timit = pd.read_pickle(paths.cache.df_timit)\n",
    "\n",
    "# Show the top 5 rows\n",
    "display(df_timit.sample(5))"
   ],
   "metadata": {
    "collapsed": false,
    "pycharm": {
     "name": "#%%\n"
    }
   }
  },
  {
   "cell_type": "markdown",
   "source": [
    "Now, let's play one sentence from the dataset:"
   ],
   "metadata": {
    "collapsed": false,
    "pycharm": {
     "name": "#%% md\n"
    }
   }
  },
  {
   "cell_type": "code",
   "source": [
    "t.sound.play_timit(df_timit.loc[0, :])"
   ],
   "metadata": {
    "collapsed": false,
    "pycharm": {
     "name": "#%%\n"
    }
   },
   "execution_count": 3,
   "outputs": []
  },
  {
   "cell_type": "markdown",
   "source": [
    "### Synthetic speech dataset"
   ],
   "metadata": {
    "collapsed": false,
    "pycharm": {
     "name": "#%% md\n"
    }
   }
  },
  {
   "cell_type": "markdown",
   "source": [
    "The metadata about the dataset containing synthetic speech in different audio settings is loaded using the function `load_synthetic_speech_data` defined in the module `toolbox\\data_loading.py`. Once loaded, the data is saved in the project cache as a Pandas dataframe. Let's load it and show a couple of rows:"
   ],
   "metadata": {
    "collapsed": false,
    "pycharm": {
     "name": "#%% md\n"
    }
   }
  },
  {
   "cell_type": "code",
   "execution_count": 4,
   "outputs": [
    {
     "data": {
      "text/plain": "       speaker length         variant segment_number fullness clarity  \\\n1729    kendra     5s  zoom_augmented             40        4       1   \n2026    kendra     5s           clean             29      NaN     NaN   \n18         ivy     5s  zoom_augmented             17        1       1   \n2451  kimberly     5s  zoom_augmented              1        4       1   \n2423  kimberly     5s  zoom_augmented             15        1       4   \n\n                       audio_path  \n1729    cut_5_s\\kendra\\4-1\\32.wav  \n2026   cut_5_s\\kendra\\orig\\34.wav  \n18          cut_5_s\\ivy\\1-1\\0.wav  \n2451  cut_5_s\\kimberly\\4-1\\17.wav  \n2423   cut_5_s\\kimberly\\1-4\\6.wav  ",
      "text/html": "<div>\n<style scoped>\n    .dataframe tbody tr th:only-of-type {\n        vertical-align: middle;\n    }\n\n    .dataframe tbody tr th {\n        vertical-align: top;\n    }\n\n    .dataframe thead th {\n        text-align: right;\n    }\n</style>\n<table border=\"1\" class=\"dataframe\">\n  <thead>\n    <tr style=\"text-align: right;\">\n      <th></th>\n      <th>speaker</th>\n      <th>length</th>\n      <th>variant</th>\n      <th>segment_number</th>\n      <th>fullness</th>\n      <th>clarity</th>\n      <th>audio_path</th>\n    </tr>\n  </thead>\n  <tbody>\n    <tr>\n      <th>1729</th>\n      <td>kendra</td>\n      <td>5s</td>\n      <td>zoom_augmented</td>\n      <td>40</td>\n      <td>4</td>\n      <td>1</td>\n      <td>cut_5_s\\kendra\\4-1\\32.wav</td>\n    </tr>\n    <tr>\n      <th>2026</th>\n      <td>kendra</td>\n      <td>5s</td>\n      <td>clean</td>\n      <td>29</td>\n      <td>NaN</td>\n      <td>NaN</td>\n      <td>cut_5_s\\kendra\\orig\\34.wav</td>\n    </tr>\n    <tr>\n      <th>18</th>\n      <td>ivy</td>\n      <td>5s</td>\n      <td>zoom_augmented</td>\n      <td>17</td>\n      <td>1</td>\n      <td>1</td>\n      <td>cut_5_s\\ivy\\1-1\\0.wav</td>\n    </tr>\n    <tr>\n      <th>2451</th>\n      <td>kimberly</td>\n      <td>5s</td>\n      <td>zoom_augmented</td>\n      <td>1</td>\n      <td>4</td>\n      <td>1</td>\n      <td>cut_5_s\\kimberly\\4-1\\17.wav</td>\n    </tr>\n    <tr>\n      <th>2423</th>\n      <td>kimberly</td>\n      <td>5s</td>\n      <td>zoom_augmented</td>\n      <td>15</td>\n      <td>1</td>\n      <td>4</td>\n      <td>cut_5_s\\kimberly\\1-4\\6.wav</td>\n    </tr>\n  </tbody>\n</table>\n</div>"
     },
     "metadata": {},
     "output_type": "display_data"
    }
   ],
   "source": [
    "# Load the meta data about the synthetic speech dataset from the cache.\n",
    "df_synthetic_speech = pd.read_pickle(paths.cache.df_synthetic_speech)\n",
    "\n",
    "# Show the top 5 rows.\n",
    "display(df_synthetic_speech.sample(5))"
   ],
   "metadata": {
    "collapsed": false,
    "pycharm": {
     "name": "#%%\n"
    }
   }
  },
  {
   "cell_type": "markdown",
   "source": [
    "Let's play one of the first 5s segment file from the database:"
   ],
   "metadata": {
    "collapsed": false,
    "pycharm": {
     "name": "#%% md\n"
    }
   }
  },
  {
   "cell_type": "code",
   "execution_count": 7,
   "outputs": [],
   "source": [
    "t.sound.play_synthetic_speech(df_synthetic_speech.loc[10, :])"
   ],
   "metadata": {
    "collapsed": false,
    "pycharm": {
     "name": "#%%\n"
    }
   }
  }
 ],
 "metadata": {
  "hide_input": false,
  "kernelspec": {
   "display_name": "Python [conda env:.conda-DataScience] *",
   "language": "python",
   "name": "conda-env-.conda-DataScience-py"
  },
  "language_info": {
   "codemirror_mode": {
    "name": "ipython",
    "version": 3
   },
   "file_extension": ".py",
   "mimetype": "text/x-python",
   "name": "python",
   "nbconvert_exporter": "python",
   "pygments_lexer": "ipython3",
   "version": "3.8.11"
  },
  "toc": {
   "base_numbering": 1,
   "nav_menu": {},
   "number_sections": true,
   "sideBar": true,
   "skip_h1_title": false,
   "title_cell": "Table of Contents",
   "title_sidebar": "Contents",
   "toc_cell": true,
   "toc_position": {
    "height": "calc(100% - 180px)",
    "left": "10px",
    "top": "150px",
    "width": "445px"
   },
   "toc_section_display": true,
   "toc_window_display": true
  },
  "toc-autonumbering": true,
  "widgets": {
   "application/vnd.jupyter.widget-state+json": {
    "state": {
     "093e89bffde74c5a8863a1d8ffe0bb66": {
      "model_module": "@jupyter-widgets/controls",
      "model_module_version": "1.5.0",
      "model_name": "DescriptionStyleModel",
      "state": {
       "description_width": ""
      }
     },
     "1a5365fd770e464891fe02b94cb34b95": {
      "model_module": "@jupyter-widgets/base",
      "model_module_version": "1.2.0",
      "model_name": "LayoutModel",
      "state": {}
     },
     "1c7a498865af41a1bd4af63eca07bd28": {
      "model_module": "@jupyter-widgets/controls",
      "model_module_version": "1.5.0",
      "model_name": "FloatTextModel",
      "state": {
       "layout": "IPY_MODEL_68759d18977d4757ba3eb3cf81aa1129",
       "step": null,
       "style": "IPY_MODEL_feea9000784940f3b601fd1ba613dd31"
      }
     },
     "1ee2806f2e314951b8b42666540f6aee": {
      "model_module": "@jupyter-widgets/base",
      "model_module_version": "1.2.0",
      "model_name": "LayoutModel",
      "state": {}
     },
     "371339a327cc48d8a56358f512674975": {
      "model_module": "@jupyter-widgets/base",
      "model_module_version": "1.2.0",
      "model_name": "LayoutModel",
      "state": {}
     },
     "65604f719f9e41f3b6d495d3aa907529": {
      "model_module": "@jupyter-widgets/controls",
      "model_module_version": "1.5.0",
      "model_name": "SliderStyleModel",
      "state": {
       "description_width": ""
      }
     },
     "68759d18977d4757ba3eb3cf81aa1129": {
      "model_module": "@jupyter-widgets/base",
      "model_module_version": "1.2.0",
      "model_name": "LayoutModel",
      "state": {}
     },
     "68dd48c190fe4b8c92790dc65803d785": {
      "model_module": "@jupyter-widgets/controls",
      "model_module_version": "1.5.0",
      "model_name": "DropdownModel",
      "state": {
       "_options_labels": [
        "One",
        "Two",
        "Three"
       ],
       "description": "Number:",
       "index": 1,
       "layout": "IPY_MODEL_371339a327cc48d8a56358f512674975",
       "style": "IPY_MODEL_89e645fe88da40b2890bc1c08b50be78"
      }
     },
     "839595af423541ef946ce08e437e5b7e": {
      "model_module": "@jupyter-widgets/controls",
      "model_module_version": "1.5.0",
      "model_name": "DescriptionStyleModel",
      "state": {
       "description_width": ""
      }
     },
     "89e645fe88da40b2890bc1c08b50be78": {
      "model_module": "@jupyter-widgets/controls",
      "model_module_version": "1.5.0",
      "model_name": "DescriptionStyleModel",
      "state": {
       "description_width": ""
      }
     },
     "9091258d01434bf8ac0f41c12363e6a8": {
      "model_module": "@jupyter-widgets/controls",
      "model_module_version": "1.5.0",
      "model_name": "FloatTextModel",
      "state": {
       "layout": "IPY_MODEL_c22c18c67fe24f06ada7d28e3cb6ff90",
       "step": null,
       "style": "IPY_MODEL_839595af423541ef946ce08e437e5b7e"
      }
     },
     "afadc0b9a4f3458685319c1818955895": {
      "model_module": "@jupyter-widgets/controls",
      "model_module_version": "1.5.0",
      "model_name": "DropdownModel",
      "state": {
       "_options_labels": [
        "One",
        "Two",
        "Three"
       ],
       "description": "Number:",
       "index": 1,
       "layout": "IPY_MODEL_1ee2806f2e314951b8b42666540f6aee",
       "style": "IPY_MODEL_093e89bffde74c5a8863a1d8ffe0bb66"
      }
     },
     "c22c18c67fe24f06ada7d28e3cb6ff90": {
      "model_module": "@jupyter-widgets/base",
      "model_module_version": "1.2.0",
      "model_name": "LayoutModel",
      "state": {}
     },
     "c64dd728486c4d4396b6b2b4a02ca054": {
      "model_module": "@jupyter-widgets/controls",
      "model_module_version": "1.5.0",
      "model_name": "FloatSliderModel",
      "state": {
       "layout": "IPY_MODEL_1a5365fd770e464891fe02b94cb34b95",
       "step": 0.1,
       "style": "IPY_MODEL_ff2f617f26294276834c51733d0f253c"
      }
     },
     "d7c60be1aeb643fe9d80a622e61b4cc2": {
      "model_module": "@jupyter-widgets/base",
      "model_module_version": "1.2.0",
      "model_name": "LayoutModel",
      "state": {}
     },
     "fe21ecb1be5e431c9745cf04421dc9a0": {
      "model_module": "@jupyter-widgets/controls",
      "model_module_version": "1.5.0",
      "model_name": "FloatSliderModel",
      "state": {
       "layout": "IPY_MODEL_d7c60be1aeb643fe9d80a622e61b4cc2",
       "step": 0.1,
       "style": "IPY_MODEL_65604f719f9e41f3b6d495d3aa907529",
       "value": 55.4
      }
     },
     "feea9000784940f3b601fd1ba613dd31": {
      "model_module": "@jupyter-widgets/controls",
      "model_module_version": "1.5.0",
      "model_name": "DescriptionStyleModel",
      "state": {
       "description_width": ""
      }
     },
     "ff2f617f26294276834c51733d0f253c": {
      "model_module": "@jupyter-widgets/controls",
      "model_module_version": "1.5.0",
      "model_name": "SliderStyleModel",
      "state": {
       "description_width": ""
      }
     }
    },
    "version_major": 2,
    "version_minor": 0
   }
  }
 },
 "nbformat": 4,
 "nbformat_minor": 4
}