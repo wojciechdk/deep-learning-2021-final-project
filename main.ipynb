{
 "cells": [
  {
   "cell_type": "markdown",
   "metadata": {
    "hide_input": true
   },
   "source": [
    "<span style=\"font-family:Lucida Bright;\">\n",
    "<p style=\"margin-bottom:0.5cm\"></p>\n",
    "<center>\n",
    "<font size=\"8\"><b>Deep Learning, Fall 2021</b></font>\n",
    "<p style=\"margin-bottom:0.6cm\"></p>\n",
    "<font size=\"3\"><b>Final Project:</b></font>\n",
    "<p style=\"margin-bottom:0.6cm\"></p>\n",
    "<font size=\"5\"><b>Enhancing Voices for Better Speech Intelligibility</b></font>\n",
    "<p style=\"margin-bottom:2cm\"></p>\n",
    "<font size=\"6\"><b>Start</b></font>\n",
    "</center>\n",
    "<p style=\"margin-bottom:2cm\"></p>"
   ]
  },
  {
   "cell_type": "markdown",
   "metadata": {
    "toc": true
   },
   "source": [
    "<h1>Table of Contents<span class=\"tocSkip\"></span></h1>\n",
    "<div class=\"toc\"><ul class=\"toc-item\"><li><span><a href=\"#Setup\" data-toc-modified-id=\"Setup-1\"><span class=\"toc-item-num\">1&nbsp;&nbsp;</span>Setup</a></span><ul class=\"toc-item\"><li><span><a href=\"#Initialization\" data-toc-modified-id=\"Initialization-1.1\"><span class=\"toc-item-num\">1.1&nbsp;&nbsp;</span>Initialization</a></span></li><li><span><a href=\"#Load-data\" data-toc-modified-id=\"Load-data-1.2\"><span class=\"toc-item-num\">1.2&nbsp;&nbsp;</span>Load data</a></span></li></ul></li><li><span><a href=\"#Load-wav-file\" data-toc-modified-id=\"Load-wav-file-2\"><span class=\"toc-item-num\">2&nbsp;&nbsp;</span>Load wav file</a></span></li></ul></div>"
   ]
  },
  {
   "cell_type": "markdown",
   "source": [
    "# Introduction"
   ],
   "metadata": {
    "collapsed": false,
    "pycharm": {
     "name": "#%% md\n"
    }
   },
   "outputs": [],
   "execution_count": 1
  },
  {
   "cell_type": "markdown",
   "source": [
    "In this notebook, we will blah blah"
   ],
   "metadata": {
    "collapsed": false,
    "pycharm": {
     "name": "#%% md\n"
    }
   }
  },
  {
   "cell_type": "markdown",
   "metadata": {
    "hide_input": true
   },
   "source": [
    "## How to get the most out of this notebook"
   ]
  },
  {
   "cell_type": "markdown",
   "source": [
    "To fully enjoy the content of this notebook, please take note of the following:\n",
    "\n",
    "- The outputs of pre-executed cells will not be rendered properly unless the notebook is **Trusted**.\n",
    "\n",
    "- To avoid accidental changes, most of the cells in this notebook are marked-as read only, and many are frozen (i.e. disabled from being run). To take advantage of these features, it is recommended to use the extension\n",
    "[Freeze Cell](https://jupyter-contrib-nbextensions.readthedocs.io/en/latest/nbextensions/freeze/readme.html)  which works with Jupyter Notebook."
   ],
   "metadata": {
    "collapsed": false
   }
  },
  {
   "cell_type": "markdown",
   "source": [
    "## Prerequisites"
   ],
   "metadata": {
    "collapsed": false
   }
  },
  {
   "cell_type": "markdown",
   "source": [
    "This notebook is a part of project. To be able to execute all of its content:\n",
    "\n",
    "1. Download the project repository: `https://github.com/wojciechdk/deep-learning-2021-final-project.git` and run the notebook from the root.\n",
    "\n",
    "2. Download the [TIMIT dataset](https://academictorrents.com/details/34e2b78745138186976cbc27939b1b34d18bd5b3), unpack it, and place it so that the folders *DOC*, *TEST*, and *TRAIN* are placed in the folder `[root]\\resources\\data\\TIMIT`."
   ],
   "metadata": {
    "collapsed": false
   }
  },
  {
   "cell_type": "markdown",
   "source": [
    "## Links and resources"
   ],
   "metadata": {
    "collapsed": false,
    "pycharm": {
     "name": "#%% md\n"
    }
   }
  },
  {
   "cell_type": "markdown",
   "source": [
    "- If you are reading the HTML version of this notebook and would like to download the ipynb source, you can do it [here](https://github.com/wojciechdk/deep-learning-2021-final-project/blob/main/main.ipynb).\n",
    "\n",
    "- The Git repository containing the entire project can be accessed [here](https://github.com/wojciechdk/deep-learning-2021-final-project.git)."
   ],
   "metadata": {
    "collapsed": false
   }
  },
  {
   "cell_type": "markdown",
   "source": [
    "\n",
    "# Setup"
   ],
   "metadata": {
    "collapsed": false
   }
  },
  {
   "cell_type": "markdown",
   "metadata": {
    "pycharm": {
     "name": "#%% md\n"
    }
   },
   "source": [
    "## Initialization"
   ]
  },
  {
   "cell_type": "markdown",
   "source": [
    "The entire initialization process, including:\n",
    " - imports of the necessary packages\n",
    " - configuration of the notebook and packages\n",
    " - imports of the toolbox functions\n",
    "\n",
    "is defined in the file [toolbox/initialization.py](toolbox/initialization.py)"
   ],
   "metadata": {
    "collapsed": false,
    "pycharm": {
     "name": "#%% md\n"
    }
   }
  },
  {
   "cell_type": "markdown",
   "metadata": {},
   "source": []
  },
  {
   "cell_type": "code",
   "execution_count": 1,
   "metadata": {
    "pycharm": {
     "name": "#%%\n"
    }
   },
   "outputs": [],
   "source": [
    "from toolbox.initialization import *"
   ]
  },
  {
   "cell_type": "markdown",
   "metadata": {},
   "source": [
    "## Load data"
   ]
  },
  {
   "cell_type": "markdown",
   "source": [
    "### TIMIT dataset"
   ],
   "metadata": {
    "collapsed": false,
    "pycharm": {
     "name": "#%% md\n"
    }
   }
  },
  {
   "cell_type": "markdown",
   "metadata": {
    "pycharm": {
     "name": "#%% md\n"
    }
   },
   "source": [
    "The metadata about the TIMIT dataset is loaded using the function `load_timit_data` defined in the module `toolbox\\data_loading.py`. Once loaded, the data is saved in the project cache as a Pandas dataframe. Let's load it and show a couple of rows:"
   ]
  },
  {
   "cell_type": "code",
   "execution_count": 2,
   "outputs": [
    {
     "data": {
      "text/plain": "     sentence_number data_group        dialect gender speaker  \\\n2408             405      train  South Midland      M    MGC0   \n2521               2      train  South Midland      M    SRG0   \n1457             303      train  North Midland      M    DEF0   \n878              437      train       Northern      M    KJO0   \n2605             106      train       Southern      F    CDR1   \n\n                      type                                               text  \\\n2408  phonetically-compact  Of course you can have another tunafish sandwich.   \n2521               dialect       Don't ask me to carry an oily rag like that.   \n1457  phonetically-compact           The bluejay flew over the high building.   \n878   phonetically-compact  They used an aggressive policeman to flag thou...   \n2605  phonetically-compact               A huge tapestry hung in her hallway.   \n\n                     audio_path start_sample end_sample  \\\n2408  train\\DR4\\MMGC0\\SX405.wav            0      37888   \n2521    train\\DR4\\MSRG0\\SA2.wav            0      36352   \n1457  train\\DR3\\MDEF0\\SX303.wav            0      30311   \n878   train\\DR2\\MKJO0\\SX437.wav            0      55296   \n2605  train\\DR5\\FCDR1\\SX106.wav            0      50381   \n\n                                             words_text  \\\n2408  [of, course, you, can, have, another, tunafish...   \n2521  [don't, ask, me, to, carry, an, oily, rag, lik...   \n1457    [the, bluejay, flew, over, the, high, building]   \n878   [they, used, an, aggressive, policeman, to, fl...   \n2605        [a, huge, tapestry, hung, in, her, hallway]   \n\n                                     words_start_sample  \\\n2408  [2120, 3400, 6527, 9160, 10945, 14280, 18760, ...   \n2521  [2040, 4360, 8161, 9357, 10569, 15832, 16668, ...   \n1457    [2170, 2880, 10040, 13660, 16680, 17796, 20939]   \n878   [2212, 3843, 9960, 11480, 18719, 27274, 29880,...   \n2605    [2440, 4600, 13326, 26520, 33086, 35720, 38516]   \n\n                                       words_end_sample  \\\n2408  [3400, 7880, 9160, 10945, 14280, 18760, 27080,...   \n2521  [4360, 7640, 9357, 10569, 15832, 16668, 21681,...   \n1457   [2880, 10040, 13660, 16680, 17796, 20939, 26778]   \n878   [3843, 9960, 11480, 18719, 27274, 29880, 35000...   \n2605   [4600, 13326, 26520, 33086, 35720, 38516, 47818]   \n\n                                          phonemes_text  \\\n2408  [h#, ah, v, kcl, k, ao, r, sh, ux, kcl, k, ih,...   \n2521  [h#, d, ow, n, ae, s, epi, m, ix, dx, ix, kcl,...   \n1457  [h#, dh, ax, bcl, b, l, ux, dcl, jh, ey, f, l,...   \n878   [h#, dh, ey, y, ux, z, dcl, d, ih, n, ih, gcl,...   \n2605  [h#, ey, hv, y, uw, zh, tcl, t, ae, pcl, p, ax...   \n\n                                  phonemes_start_sample  \\\n2408  [0, 2120, 2760, 3400, 3720, 4720, 5723, 6527, ...   \n2521  [0, 2040, 2440, 3843, 4360, 6120, 7640, 8161, ...   \n1457  [0, 2170, 2590, 2880, 4060, 4190, 4886, 6280, ...   \n878   [0, 2212, 2580, 3843, 5720, 7840, 9060, 9600, ...   \n2605  [0, 2440, 4600, 6558, 8605, 11560, 13326, 1412...   \n\n                                    phonemes_end_sample  \n2408  [2120, 2760, 3400, 3720, 4720, 5723, 6527, 788...  \n2521  [2040, 2440, 3843, 4360, 6120, 7640, 8161, 852...  \n1457  [2170, 2590, 2880, 4060, 4190, 4886, 6280, 684...  \n878   [2212, 2580, 3843, 5720, 7840, 9060, 9600, 996...  \n2605  [2440, 4600, 6558, 8605, 11560, 13326, 14120, ...  ",
      "text/html": "<div>\n<style scoped>\n    .dataframe tbody tr th:only-of-type {\n        vertical-align: middle;\n    }\n\n    .dataframe tbody tr th {\n        vertical-align: top;\n    }\n\n    .dataframe thead th {\n        text-align: right;\n    }\n</style>\n<table border=\"1\" class=\"dataframe\">\n  <thead>\n    <tr style=\"text-align: right;\">\n      <th></th>\n      <th>sentence_number</th>\n      <th>data_group</th>\n      <th>dialect</th>\n      <th>gender</th>\n      <th>speaker</th>\n      <th>type</th>\n      <th>text</th>\n      <th>audio_path</th>\n      <th>start_sample</th>\n      <th>end_sample</th>\n      <th>words_text</th>\n      <th>words_start_sample</th>\n      <th>words_end_sample</th>\n      <th>phonemes_text</th>\n      <th>phonemes_start_sample</th>\n      <th>phonemes_end_sample</th>\n    </tr>\n  </thead>\n  <tbody>\n    <tr>\n      <th>2408</th>\n      <td>405</td>\n      <td>train</td>\n      <td>South Midland</td>\n      <td>M</td>\n      <td>MGC0</td>\n      <td>phonetically-compact</td>\n      <td>Of course you can have another tunafish sandwich.</td>\n      <td>train\\DR4\\MMGC0\\SX405.wav</td>\n      <td>0</td>\n      <td>37888</td>\n      <td>[of, course, you, can, have, another, tunafish...</td>\n      <td>[2120, 3400, 6527, 9160, 10945, 14280, 18760, ...</td>\n      <td>[3400, 7880, 9160, 10945, 14280, 18760, 27080,...</td>\n      <td>[h#, ah, v, kcl, k, ao, r, sh, ux, kcl, k, ih,...</td>\n      <td>[0, 2120, 2760, 3400, 3720, 4720, 5723, 6527, ...</td>\n      <td>[2120, 2760, 3400, 3720, 4720, 5723, 6527, 788...</td>\n    </tr>\n    <tr>\n      <th>2521</th>\n      <td>2</td>\n      <td>train</td>\n      <td>South Midland</td>\n      <td>M</td>\n      <td>SRG0</td>\n      <td>dialect</td>\n      <td>Don't ask me to carry an oily rag like that.</td>\n      <td>train\\DR4\\MSRG0\\SA2.wav</td>\n      <td>0</td>\n      <td>36352</td>\n      <td>[don't, ask, me, to, carry, an, oily, rag, lik...</td>\n      <td>[2040, 4360, 8161, 9357, 10569, 15832, 16668, ...</td>\n      <td>[4360, 7640, 9357, 10569, 15832, 16668, 21681,...</td>\n      <td>[h#, d, ow, n, ae, s, epi, m, ix, dx, ix, kcl,...</td>\n      <td>[0, 2040, 2440, 3843, 4360, 6120, 7640, 8161, ...</td>\n      <td>[2040, 2440, 3843, 4360, 6120, 7640, 8161, 852...</td>\n    </tr>\n    <tr>\n      <th>1457</th>\n      <td>303</td>\n      <td>train</td>\n      <td>North Midland</td>\n      <td>M</td>\n      <td>DEF0</td>\n      <td>phonetically-compact</td>\n      <td>The bluejay flew over the high building.</td>\n      <td>train\\DR3\\MDEF0\\SX303.wav</td>\n      <td>0</td>\n      <td>30311</td>\n      <td>[the, bluejay, flew, over, the, high, building]</td>\n      <td>[2170, 2880, 10040, 13660, 16680, 17796, 20939]</td>\n      <td>[2880, 10040, 13660, 16680, 17796, 20939, 26778]</td>\n      <td>[h#, dh, ax, bcl, b, l, ux, dcl, jh, ey, f, l,...</td>\n      <td>[0, 2170, 2590, 2880, 4060, 4190, 4886, 6280, ...</td>\n      <td>[2170, 2590, 2880, 4060, 4190, 4886, 6280, 684...</td>\n    </tr>\n    <tr>\n      <th>878</th>\n      <td>437</td>\n      <td>train</td>\n      <td>Northern</td>\n      <td>M</td>\n      <td>KJO0</td>\n      <td>phonetically-compact</td>\n      <td>They used an aggressive policeman to flag thou...</td>\n      <td>train\\DR2\\MKJO0\\SX437.wav</td>\n      <td>0</td>\n      <td>55296</td>\n      <td>[they, used, an, aggressive, policeman, to, fl...</td>\n      <td>[2212, 3843, 9960, 11480, 18719, 27274, 29880,...</td>\n      <td>[3843, 9960, 11480, 18719, 27274, 29880, 35000...</td>\n      <td>[h#, dh, ey, y, ux, z, dcl, d, ih, n, ih, gcl,...</td>\n      <td>[0, 2212, 2580, 3843, 5720, 7840, 9060, 9600, ...</td>\n      <td>[2212, 2580, 3843, 5720, 7840, 9060, 9600, 996...</td>\n    </tr>\n    <tr>\n      <th>2605</th>\n      <td>106</td>\n      <td>train</td>\n      <td>Southern</td>\n      <td>F</td>\n      <td>CDR1</td>\n      <td>phonetically-compact</td>\n      <td>A huge tapestry hung in her hallway.</td>\n      <td>train\\DR5\\FCDR1\\SX106.wav</td>\n      <td>0</td>\n      <td>50381</td>\n      <td>[a, huge, tapestry, hung, in, her, hallway]</td>\n      <td>[2440, 4600, 13326, 26520, 33086, 35720, 38516]</td>\n      <td>[4600, 13326, 26520, 33086, 35720, 38516, 47818]</td>\n      <td>[h#, ey, hv, y, uw, zh, tcl, t, ae, pcl, p, ax...</td>\n      <td>[0, 2440, 4600, 6558, 8605, 11560, 13326, 1412...</td>\n      <td>[2440, 4600, 6558, 8605, 11560, 13326, 14120, ...</td>\n    </tr>\n  </tbody>\n</table>\n</div>"
     },
     "metadata": {},
     "output_type": "display_data"
    }
   ],
   "source": [
    "# Load the TIMIT meta data from the cache.\n",
    "df_timit = pd.read_pickle(paths.cache.df_timit)\n",
    "\n",
    "# Show the top 5 rows\n",
    "display(df_timit.sample(5))"
   ],
   "metadata": {
    "collapsed": false,
    "pycharm": {
     "name": "#%%\n"
    }
   }
  },
  {
   "cell_type": "markdown",
   "source": [
    "### Synthetic speech dataset"
   ],
   "metadata": {
    "collapsed": false,
    "pycharm": {
     "name": "#%% md\n"
    }
   }
  },
  {
   "cell_type": "markdown",
   "source": [
    "The metadata about the dataset containing synthetic speech in different audio settings is loaded using the function `load_synthetic_speech_data` defined in the module `toolbox\\data_loading.py`. Once loaded, the data is saved in the project cache as a Pandas dataframe. Let's load it and show a couple of rows:"
   ],
   "metadata": {
    "collapsed": false,
    "pycharm": {
     "name": "#%% md\n"
    }
   }
  },
  {
   "cell_type": "code",
   "execution_count": 3,
   "outputs": [
    {
     "data": {
      "text/plain": "     speaker length variant segment_number fullness clarity  \\\n1482  justin     5s   music             37      NaN     NaN   \n1900  kendra     5s   music             35      NaN     NaN   \n183      ivy     5s  babble             22      NaN     NaN   \n1184    joey     5s   clean             16      NaN     NaN   \n1995  kendra     5s    zoom             42      NaN     NaN   \n\n                      audio_path  \n1482  cut_5_s\\justin\\musi\\27.wav  \n1900  cut_5_s\\kendra\\musi\\25.wav  \n183      cut_5_s\\ivy\\babb\\37.wav  \n1184     cut_5_s\\joey\\orig\\7.wav  \n1995  cut_5_s\\kendra\\zoom\\27.wav  ",
      "text/html": "<div>\n<style scoped>\n    .dataframe tbody tr th:only-of-type {\n        vertical-align: middle;\n    }\n\n    .dataframe tbody tr th {\n        vertical-align: top;\n    }\n\n    .dataframe thead th {\n        text-align: right;\n    }\n</style>\n<table border=\"1\" class=\"dataframe\">\n  <thead>\n    <tr style=\"text-align: right;\">\n      <th></th>\n      <th>speaker</th>\n      <th>length</th>\n      <th>variant</th>\n      <th>segment_number</th>\n      <th>fullness</th>\n      <th>clarity</th>\n      <th>audio_path</th>\n    </tr>\n  </thead>\n  <tbody>\n    <tr>\n      <th>1482</th>\n      <td>justin</td>\n      <td>5s</td>\n      <td>music</td>\n      <td>37</td>\n      <td>NaN</td>\n      <td>NaN</td>\n      <td>cut_5_s\\justin\\musi\\27.wav</td>\n    </tr>\n    <tr>\n      <th>1900</th>\n      <td>kendra</td>\n      <td>5s</td>\n      <td>music</td>\n      <td>35</td>\n      <td>NaN</td>\n      <td>NaN</td>\n      <td>cut_5_s\\kendra\\musi\\25.wav</td>\n    </tr>\n    <tr>\n      <th>183</th>\n      <td>ivy</td>\n      <td>5s</td>\n      <td>babble</td>\n      <td>22</td>\n      <td>NaN</td>\n      <td>NaN</td>\n      <td>cut_5_s\\ivy\\babb\\37.wav</td>\n    </tr>\n    <tr>\n      <th>1184</th>\n      <td>joey</td>\n      <td>5s</td>\n      <td>clean</td>\n      <td>16</td>\n      <td>NaN</td>\n      <td>NaN</td>\n      <td>cut_5_s\\joey\\orig\\7.wav</td>\n    </tr>\n    <tr>\n      <th>1995</th>\n      <td>kendra</td>\n      <td>5s</td>\n      <td>zoom</td>\n      <td>42</td>\n      <td>NaN</td>\n      <td>NaN</td>\n      <td>cut_5_s\\kendra\\zoom\\27.wav</td>\n    </tr>\n  </tbody>\n</table>\n</div>"
     },
     "metadata": {},
     "output_type": "display_data"
    }
   ],
   "source": [
    "# Load the meta data about the synthetic speech dataset from the cache.\n",
    "df_synthetic_speech = pd.read_pickle(paths.cache.df_synthetic_speech)\n",
    "\n",
    "# Show the top 5 rows.\n",
    "display(df_synthetic_speech.sample(5))"
   ],
   "metadata": {
    "collapsed": false,
    "pycharm": {
     "name": "#%%\n"
    }
   }
  }
 ],
 "metadata": {
  "hide_input": false,
  "kernelspec": {
   "display_name": "Python [conda env:.conda-DataScience] *",
   "language": "python",
   "name": "conda-env-.conda-DataScience-py"
  },
  "language_info": {
   "codemirror_mode": {
    "name": "ipython",
    "version": 3
   },
   "file_extension": ".py",
   "mimetype": "text/x-python",
   "name": "python",
   "nbconvert_exporter": "python",
   "pygments_lexer": "ipython3",
   "version": "3.8.11"
  },
  "toc": {
   "base_numbering": 1,
   "nav_menu": {},
   "number_sections": true,
   "sideBar": true,
   "skip_h1_title": false,
   "title_cell": "Table of Contents",
   "title_sidebar": "Contents",
   "toc_cell": true,
   "toc_position": {
    "height": "calc(100% - 180px)",
    "left": "10px",
    "top": "150px",
    "width": "445px"
   },
   "toc_section_display": true,
   "toc_window_display": true
  },
  "toc-autonumbering": true,
  "widgets": {
   "application/vnd.jupyter.widget-state+json": {
    "state": {
     "093e89bffde74c5a8863a1d8ffe0bb66": {
      "model_module": "@jupyter-widgets/controls",
      "model_module_version": "1.5.0",
      "model_name": "DescriptionStyleModel",
      "state": {
       "description_width": ""
      }
     },
     "1a5365fd770e464891fe02b94cb34b95": {
      "model_module": "@jupyter-widgets/base",
      "model_module_version": "1.2.0",
      "model_name": "LayoutModel",
      "state": {}
     },
     "1c7a498865af41a1bd4af63eca07bd28": {
      "model_module": "@jupyter-widgets/controls",
      "model_module_version": "1.5.0",
      "model_name": "FloatTextModel",
      "state": {
       "layout": "IPY_MODEL_68759d18977d4757ba3eb3cf81aa1129",
       "step": null,
       "style": "IPY_MODEL_feea9000784940f3b601fd1ba613dd31"
      }
     },
     "1ee2806f2e314951b8b42666540f6aee": {
      "model_module": "@jupyter-widgets/base",
      "model_module_version": "1.2.0",
      "model_name": "LayoutModel",
      "state": {}
     },
     "371339a327cc48d8a56358f512674975": {
      "model_module": "@jupyter-widgets/base",
      "model_module_version": "1.2.0",
      "model_name": "LayoutModel",
      "state": {}
     },
     "65604f719f9e41f3b6d495d3aa907529": {
      "model_module": "@jupyter-widgets/controls",
      "model_module_version": "1.5.0",
      "model_name": "SliderStyleModel",
      "state": {
       "description_width": ""
      }
     },
     "68759d18977d4757ba3eb3cf81aa1129": {
      "model_module": "@jupyter-widgets/base",
      "model_module_version": "1.2.0",
      "model_name": "LayoutModel",
      "state": {}
     },
     "68dd48c190fe4b8c92790dc65803d785": {
      "model_module": "@jupyter-widgets/controls",
      "model_module_version": "1.5.0",
      "model_name": "DropdownModel",
      "state": {
       "_options_labels": [
        "One",
        "Two",
        "Three"
       ],
       "description": "Number:",
       "index": 1,
       "layout": "IPY_MODEL_371339a327cc48d8a56358f512674975",
       "style": "IPY_MODEL_89e645fe88da40b2890bc1c08b50be78"
      }
     },
     "839595af423541ef946ce08e437e5b7e": {
      "model_module": "@jupyter-widgets/controls",
      "model_module_version": "1.5.0",
      "model_name": "DescriptionStyleModel",
      "state": {
       "description_width": ""
      }
     },
     "89e645fe88da40b2890bc1c08b50be78": {
      "model_module": "@jupyter-widgets/controls",
      "model_module_version": "1.5.0",
      "model_name": "DescriptionStyleModel",
      "state": {
       "description_width": ""
      }
     },
     "9091258d01434bf8ac0f41c12363e6a8": {
      "model_module": "@jupyter-widgets/controls",
      "model_module_version": "1.5.0",
      "model_name": "FloatTextModel",
      "state": {
       "layout": "IPY_MODEL_c22c18c67fe24f06ada7d28e3cb6ff90",
       "step": null,
       "style": "IPY_MODEL_839595af423541ef946ce08e437e5b7e"
      }
     },
     "afadc0b9a4f3458685319c1818955895": {
      "model_module": "@jupyter-widgets/controls",
      "model_module_version": "1.5.0",
      "model_name": "DropdownModel",
      "state": {
       "_options_labels": [
        "One",
        "Two",
        "Three"
       ],
       "description": "Number:",
       "index": 1,
       "layout": "IPY_MODEL_1ee2806f2e314951b8b42666540f6aee",
       "style": "IPY_MODEL_093e89bffde74c5a8863a1d8ffe0bb66"
      }
     },
     "c22c18c67fe24f06ada7d28e3cb6ff90": {
      "model_module": "@jupyter-widgets/base",
      "model_module_version": "1.2.0",
      "model_name": "LayoutModel",
      "state": {}
     },
     "c64dd728486c4d4396b6b2b4a02ca054": {
      "model_module": "@jupyter-widgets/controls",
      "model_module_version": "1.5.0",
      "model_name": "FloatSliderModel",
      "state": {
       "layout": "IPY_MODEL_1a5365fd770e464891fe02b94cb34b95",
       "step": 0.1,
       "style": "IPY_MODEL_ff2f617f26294276834c51733d0f253c"
      }
     },
     "d7c60be1aeb643fe9d80a622e61b4cc2": {
      "model_module": "@jupyter-widgets/base",
      "model_module_version": "1.2.0",
      "model_name": "LayoutModel",
      "state": {}
     },
     "fe21ecb1be5e431c9745cf04421dc9a0": {
      "model_module": "@jupyter-widgets/controls",
      "model_module_version": "1.5.0",
      "model_name": "FloatSliderModel",
      "state": {
       "layout": "IPY_MODEL_d7c60be1aeb643fe9d80a622e61b4cc2",
       "step": 0.1,
       "style": "IPY_MODEL_65604f719f9e41f3b6d495d3aa907529",
       "value": 55.4
      }
     },
     "feea9000784940f3b601fd1ba613dd31": {
      "model_module": "@jupyter-widgets/controls",
      "model_module_version": "1.5.0",
      "model_name": "DescriptionStyleModel",
      "state": {
       "description_width": ""
      }
     },
     "ff2f617f26294276834c51733d0f253c": {
      "model_module": "@jupyter-widgets/controls",
      "model_module_version": "1.5.0",
      "model_name": "SliderStyleModel",
      "state": {
       "description_width": ""
      }
     }
    },
    "version_major": 2,
    "version_minor": 0
   }
  }
 },
 "nbformat": 4,
 "nbformat_minor": 4
}